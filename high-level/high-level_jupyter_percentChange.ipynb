{
 "cells": [
  {
   "cell_type": "markdown",
   "metadata": {},
   "source": [
    "# High-level R tutorial"
   ]
  },
  {
   "cell_type": "markdown",
   "metadata": {},
   "source": [
    "##### Full Version: https://cryptocurrencyresearch.org/"
   ]
  },
  {
   "cell_type": "markdown",
   "metadata": {},
   "source": [
    "## Install Packages"
   ]
  },
  {
   "cell_type": "code",
   "execution_count": 1,
   "metadata": {},
   "outputs": [
    {
     "name": "stderr",
     "output_type": "stream",
     "text": [
      "Installing package into 'C:/Users/ries9/Documents/R/win-library/3.6'\n",
      "(as 'lib' is unspecified)\n"
     ]
    },
    {
     "name": "stdout",
     "output_type": "stream",
     "text": [
      "package 'pacman' successfully unpacked and MD5 sums checked\n",
      "\n",
      "The downloaded binary packages are in\n",
      "\tC:\\Users\\ries9\\AppData\\Local\\Temp\\RtmpEBIEH6\\downloaded_packages\n"
     ]
    }
   ],
   "source": [
    "install.packages(\"pacman\")"
   ]
  },
  {
   "cell_type": "code",
   "execution_count": 2,
   "metadata": {},
   "outputs": [
    {
     "name": "stderr",
     "output_type": "stream",
     "text": [
      "Warning message:\n",
      "\"package 'pacman' was built under R version 3.6.3\""
     ]
    }
   ],
   "source": [
    "library(pacman)"
   ]
  },
  {
   "cell_type": "markdown",
   "metadata": {},
   "source": [
    "Now we can use the `p_load()` function to install and load all other packages we will need: "
   ]
  },
  {
   "cell_type": "code",
   "execution_count": 3,
   "metadata": {},
   "outputs": [
    {
     "name": "stderr",
     "output_type": "stream",
     "text": [
      "Installing package into 'C:/Users/ries9/Documents/R/win-library/3.6'\n",
      "(as 'lib' is unspecified)\n",
      "also installing the dependencies 'rlang', 'vctrs'\n",
      "\n",
      "Warning message:\n",
      "\"unable to access index for repository http://www.stats.ox.ac.uk/pub/RWin/bin/windows/contrib/3.6:\n",
      "  cannot open URL 'http://www.stats.ox.ac.uk/pub/RWin/bin/windows/contrib/3.6/PACKAGES'\"Warning message:\n",
      "\"package 'vctrs' is in use and will not be installed\""
     ]
    },
    {
     "name": "stdout",
     "output_type": "stream",
     "text": [
      "package 'rlang' successfully unpacked and MD5 sums checked\n"
     ]
    },
    {
     "name": "stderr",
     "output_type": "stream",
     "text": [
      "Warning message:\n",
      "\"cannot remove prior installation of package 'rlang'\"Warning message in file.copy(savedcopy, lib, recursive = TRUE):\n",
      "\"problem copying C:\\Users\\ries9\\Documents\\R\\win-library\\3.6\\00LOCK\\rlang\\libs\\x64\\rlang.dll to C:\\Users\\ries9\\Documents\\R\\win-library\\3.6\\rlang\\libs\\x64\\rlang.dll: Permission denied\"Warning message:\n",
      "\"restored 'rlang'\""
     ]
    },
    {
     "name": "stdout",
     "output_type": "stream",
     "text": [
      "package 'tsibble' successfully unpacked and MD5 sums checked\n",
      "\n",
      "The downloaded binary packages are in\n",
      "\tC:\\Users\\ries9\\AppData\\Local\\Temp\\RtmpEBIEH6\\downloaded_packages\n"
     ]
    },
    {
     "name": "stderr",
     "output_type": "stream",
     "text": [
      "\n",
      "tsibble installed\n",
      "Warning message:\n",
      "\"package 'tsibble' was built under R version 3.6.3\"Installing package into 'C:/Users/ries9/Documents/R/win-library/3.6'\n",
      "(as 'lib' is unspecified)\n",
      "also installing the dependency 'tidyr'\n",
      "\n",
      "Warning message:\n",
      "\"unable to access index for repository http://www.stats.ox.ac.uk/pub/RWin/bin/windows/contrib/3.6:\n",
      "  cannot open URL 'http://www.stats.ox.ac.uk/pub/RWin/bin/windows/contrib/3.6/PACKAGES'\""
     ]
    },
    {
     "name": "stdout",
     "output_type": "stream",
     "text": [
      "package 'tidyr' successfully unpacked and MD5 sums checked\n"
     ]
    },
    {
     "name": "stderr",
     "output_type": "stream",
     "text": [
      "Warning message:\n",
      "\"cannot remove prior installation of package 'tidyr'\"Warning message in file.copy(savedcopy, lib, recursive = TRUE):\n",
      "\"problem copying C:\\Users\\ries9\\Documents\\R\\win-library\\3.6\\00LOCK\\tidyr\\libs\\x64\\tidyr.dll to C:\\Users\\ries9\\Documents\\R\\win-library\\3.6\\tidyr\\libs\\x64\\tidyr.dll: Permission denied\"Warning message:\n",
      "\"restored 'tidyr'\""
     ]
    },
    {
     "name": "stdout",
     "output_type": "stream",
     "text": [
      "package 'fabletools' successfully unpacked and MD5 sums checked\n",
      "\n",
      "The downloaded binary packages are in\n",
      "\tC:\\Users\\ries9\\AppData\\Local\\Temp\\RtmpEBIEH6\\downloaded_packages\n"
     ]
    },
    {
     "name": "stderr",
     "output_type": "stream",
     "text": [
      "\n",
      "fabletools installed\n",
      "Warning message:\n",
      "\"package 'fabletools' was built under R version 3.6.3\"Installing package into 'C:/Users/ries9/Documents/R/win-library/3.6'\n",
      "(as 'lib' is unspecified)\n",
      "Warning message:\n",
      "\"unable to access index for repository http://www.stats.ox.ac.uk/pub/RWin/bin/windows/contrib/3.6:\n",
      "  cannot open URL 'http://www.stats.ox.ac.uk/pub/RWin/bin/windows/contrib/3.6/PACKAGES'\""
     ]
    },
    {
     "name": "stdout",
     "output_type": "stream",
     "text": [
      "package 'fable' successfully unpacked and MD5 sums checked\n",
      "\n",
      "The downloaded binary packages are in\n",
      "\tC:\\Users\\ries9\\AppData\\Local\\Temp\\RtmpEBIEH6\\downloaded_packages\n"
     ]
    },
    {
     "name": "stderr",
     "output_type": "stream",
     "text": [
      "\n",
      "fable installed\n",
      "Warning message:\n",
      "\"package 'fable' was built under R version 3.6.3\"Warning message:\n",
      "\"package 'fabletools' was built under R version 3.6.3\"Installing package into 'C:/Users/ries9/Documents/R/win-library/3.6'\n",
      "(as 'lib' is unspecified)\n",
      "Warning message:\n",
      "\"unable to access index for repository http://www.stats.ox.ac.uk/pub/RWin/bin/windows/contrib/3.6:\n",
      "  cannot open URL 'http://www.stats.ox.ac.uk/pub/RWin/bin/windows/contrib/3.6/PACKAGES'\""
     ]
    },
    {
     "name": "stdout",
     "output_type": "stream",
     "text": [
      "package 'feasts' successfully unpacked and MD5 sums checked\n",
      "\n",
      "The downloaded binary packages are in\n",
      "\tC:\\Users\\ries9\\AppData\\Local\\Temp\\RtmpEBIEH6\\downloaded_packages\n"
     ]
    },
    {
     "name": "stderr",
     "output_type": "stream",
     "text": [
      "\n",
      "feasts installed\n",
      "Warning message:\n",
      "\"package 'feasts' was built under R version 3.6.3\"Warning message:\n",
      "\"package 'fabletools' was built under R version 3.6.3\"Warning message in p_load(\"vctrs\", \"pins\", \"dplyr\", \"ggplot2\", \"caret\", \"xgboost\", :\n",
      "\"Failed to install/load:\n",
      "tsibble, fabletools, fable, feasts\""
     ]
    }
   ],
   "source": [
    "p_load(\"vctrs\",\"pins\",\"dplyr\",\"ggplot2\",\"caret\",\"xgboost\",\"kernlab\",\"tsibble\",\"fabletools\",\"fable\",\"feasts\",\"urca\") # can vctrs be removed?"
   ]
  },
  {
   "cell_type": "markdown",
   "metadata": {},
   "source": [
    "## Get the data"
   ]
  },
  {
   "cell_type": "markdown",
   "metadata": {},
   "source": [
    "We can get the data using the `pins` package:"
   ]
  },
  {
   "cell_type": "code",
   "execution_count": 4,
   "metadata": {},
   "outputs": [],
   "source": [
    "board_register(name = \"pins_board\", url = \"https://raw.githubusercontent.com/predictcrypto/pins/master/\", board = \"datatxt\")"
   ]
  },
  {
   "cell_type": "code",
   "execution_count": 5,
   "metadata": {},
   "outputs": [],
   "source": [
    "cryptodata <- pin_get(name = \"cryptodatadownload_ETH_Binance\")"
   ]
  },
  {
   "cell_type": "markdown",
   "metadata": {},
   "source": [
    "#### Preview data:"
   ]
  },
  {
   "cell_type": "code",
   "execution_count": 6,
   "metadata": {},
   "outputs": [
    {
     "data": {
      "text/html": [
       "<table>\n",
       "<caption>A tibble: 22847 × 19</caption>\n",
       "<thead>\n",
       "\t<tr><th scope=col>Date</th><th scope=col>Symbol</th><th scope=col>Open</th><th scope=col>High</th><th scope=col>Low</th><th scope=col>Close</th><th scope=col>VolumeUSDT</th><th scope=col>CloseLag1Hour</th><th scope=col>CloseLag12Hour</th><th scope=col>CloseLag24Hour</th><th scope=col>CloseLag3Day</th><th scope=col>CloseLag7Day</th><th scope=col>CloseLag14Day</th><th scope=col>CloseLag30Day</th><th scope=col>CloseLag90Day</th><th scope=col>CloseLag120Day</th><th scope=col>Volatility</th><th scope=col>Target24HourClose</th><th scope=col>DateTime</th></tr>\n",
       "\t<tr><th scope=col>&lt;date&gt;</th><th scope=col>&lt;chr&gt;</th><th scope=col>&lt;dbl&gt;</th><th scope=col>&lt;dbl&gt;</th><th scope=col>&lt;dbl&gt;</th><th scope=col>&lt;dbl&gt;</th><th scope=col>&lt;dbl&gt;</th><th scope=col>&lt;dbl&gt;</th><th scope=col>&lt;dbl&gt;</th><th scope=col>&lt;dbl&gt;</th><th scope=col>&lt;dbl&gt;</th><th scope=col>&lt;dbl&gt;</th><th scope=col>&lt;dbl&gt;</th><th scope=col>&lt;dbl&gt;</th><th scope=col>&lt;dbl&gt;</th><th scope=col>&lt;dbl&gt;</th><th scope=col>&lt;dbl&gt;</th><th scope=col>&lt;dbl&gt;</th><th scope=col>&lt;dttm&gt;</th></tr>\n",
       "</thead>\n",
       "<tbody>\n",
       "\t<tr><td>2017-12-31</td><td>ETH</td><td>701.91</td><td>710.00</td><td>697.59</td><td>701.02</td><td>2101864.3</td><td>670.15</td><td>676.38</td><td>710.01</td><td>738.50</td><td>625.00</td><td>702.20</td><td>421.72</td><td>302.88</td><td>384.47</td><td>1.7789819</td><td>717.97</td><td>2017-12-31 01:00:00</td></tr>\n",
       "\t<tr><td>2017-12-31</td><td>ETH</td><td>701.02</td><td>714.15</td><td>698.00</td><td>711.06</td><td>2051671.5</td><td>701.02</td><td>677.82</td><td>690.00</td><td>670.00</td><td>583.00</td><td>705.55</td><td>426.12</td><td>300.90</td><td>382.68</td><td>2.3137536</td><td>724.05</td><td>2017-12-31 02:00:00</td></tr>\n",
       "\t<tr><td>2017-12-31</td><td>ETH</td><td>711.08</td><td>712.18</td><td>683.68</td><td>697.98</td><td>1900145.0</td><td>711.06</td><td>673.27</td><td>691.10</td><td>695.94</td><td>636.88</td><td>711.06</td><td>426.01</td><td>301.46</td><td>378.52</td><td>4.1686169</td><td>734.50</td><td>2017-12-31 03:00:00</td></tr>\n",
       "\t<tr><td>2017-12-31</td><td>ETH</td><td>697.98</td><td>699.72</td><td>680.00</td><td>698.64</td><td>1995594.9</td><td>697.98</td><td>655.96</td><td>671.15</td><td>697.85</td><td>634.20</td><td>711.00</td><td>430.90</td><td>301.87</td><td>375.75</td><td>2.9000000</td><td>744.82</td><td>2017-12-31 04:00:00</td></tr>\n",
       "\t<tr><td>2017-12-31</td><td>ETH</td><td>698.64</td><td>705.99</td><td>688.20</td><td>690.60</td><td>1631923.4</td><td>698.64</td><td>685.01</td><td>695.65</td><td>674.06</td><td>649.78</td><td>712.00</td><td>422.09</td><td>303.55</td><td>347.61</td><td>2.5850044</td><td>748.99</td><td>2017-12-31 05:00:00</td></tr>\n",
       "\t<tr><td>2017-12-31</td><td>ETH</td><td>690.60</td><td>698.81</td><td>683.52</td><td>688.33</td><td>1911141.1</td><td>690.60</td><td>691.45</td><td>693.21</td><td>680.00</td><td>658.35</td><td>712.00</td><td>417.98</td><td>302.51</td><td>367.60</td><td>2.2369499</td><td>762.18</td><td>2017-12-31 06:00:00</td></tr>\n",
       "\t<tr><td>2017-12-31</td><td>ETH</td><td>688.33</td><td>699.50</td><td>685.31</td><td>697.00</td><td>1300044.7</td><td>688.33</td><td>700.98</td><td>707.01</td><td>687.52</td><td>639.01</td><td>712.99</td><td>418.80</td><td>302.38</td><td>363.70</td><td>2.0705958</td><td>751.99</td><td>2017-12-31 07:00:00</td></tr>\n",
       "\t<tr><td>2017-12-31</td><td>ETH</td><td>697.00</td><td>699.99</td><td>688.55</td><td>688.80</td><td>1678652.6</td><td>697.00</td><td>694.59</td><td>698.91</td><td>691.00</td><td>655.11</td><td>708.81</td><td>427.02</td><td>301.29</td><td>355.42</td><td>1.6614625</td><td>745.00</td><td>2017-12-31 08:00:00</td></tr>\n",
       "\t<tr><td>2017-12-31</td><td>ETH</td><td>688.80</td><td>694.19</td><td>682.16</td><td>688.32</td><td>1310711.6</td><td>688.80</td><td>699.08</td><td>699.01</td><td>683.70</td><td>623.96</td><td>711.00</td><td>432.02</td><td>302.18</td><td>351.60</td><td>1.7635159</td><td>753.21</td><td>2017-12-31 09:00:00</td></tr>\n",
       "\t<tr><td>2017-12-31</td><td>ETH</td><td>688.32</td><td>705.00</td><td>686.01</td><td>703.52</td><td>1635646.4</td><td>688.32</td><td>697.50</td><td>689.00</td><td>654.00</td><td>614.90</td><td>712.99</td><td>428.48</td><td>302.87</td><td>356.58</td><td>2.7681812</td><td>757.10</td><td>2017-12-31 10:00:00</td></tr>\n",
       "\t<tr><td>2017-12-31</td><td>ETH</td><td>703.52</td><td>712.50</td><td>701.78</td><td>709.89</td><td>1628999.3</td><td>703.52</td><td>681.06</td><td>698.19</td><td>668.79</td><td>591.10</td><td>712.12</td><td>433.00</td><td>300.41</td><td>357.00</td><td>1.5275442</td><td>741.01</td><td>2017-12-31 11:00:00</td></tr>\n",
       "\t<tr><td>2017-12-31</td><td>ETH</td><td>681.06</td><td>704.97</td><td>672.86</td><td>701.91</td><td>2788607.4</td><td>709.89</td><td>670.15</td><td>729.67</td><td>732.60</td><td>634.74</td><td>699.77</td><td>421.42</td><td>301.68</td><td>394.32</td><td>4.7721666</td><td>727.62</td><td>2017-12-31 12:00:00</td></tr>\n",
       "\t<tr><td>2017-12-31</td><td>ETH</td><td>713.99</td><td>725.00</td><td>709.98</td><td>719.01</td><td>1906377.1</td><td>701.91</td><td>701.02</td><td>676.38</td><td>688.61</td><td>617.21</td><td>706.69</td><td>456.32</td><td>299.01</td><td>353.09</td><td>2.1155526</td><td>738.93</td><td>2017-12-31 13:00:00</td></tr>\n",
       "\t<tr><td>2017-12-31</td><td>ETH</td><td>719.01</td><td>730.03</td><td>717.01</td><td>727.45</td><td>2367772.3</td><td>719.01</td><td>711.06</td><td>677.82</td><td>700.32</td><td>627.39</td><td>703.29</td><td>443.97</td><td>299.00</td><td>335.32</td><td>1.8158743</td><td>742.74</td><td>2017-12-31 14:00:00</td></tr>\n",
       "\t<tr><td>2017-12-31</td><td>ETH</td><td>727.45</td><td>727.46</td><td>711.10</td><td>720.03</td><td>2225450.9</td><td>727.45</td><td>697.98</td><td>673.27</td><td>701.00</td><td>609.00</td><td>704.53</td><td>446.66</td><td>300.80</td><td>341.72</td><td>2.3006609</td><td>748.80</td><td>2017-12-31 15:00:00</td></tr>\n",
       "\t<tr><td>2017-12-31</td><td>ETH</td><td>720.03</td><td>739.80</td><td>720.03</td><td>728.48</td><td>3658469.0</td><td>720.03</td><td>698.64</td><td>655.96</td><td>686.00</td><td>617.63</td><td>698.01</td><td>449.99</td><td>298.13</td><td>336.97</td><td>2.7457189</td><td>739.08</td><td>2017-12-31 16:00:00</td></tr>\n",
       "\t<tr><td>2017-12-31</td><td>ETH</td><td>728.48</td><td>738.99</td><td>723.92</td><td>733.01</td><td>1802514.4</td><td>728.48</td><td>690.60</td><td>685.01</td><td>698.00</td><td>610.30</td><td>705.00</td><td>447.68</td><td>295.46</td><td>341.63</td><td>2.0817217</td><td>737.02</td><td>2017-12-31 17:00:00</td></tr>\n",
       "\t<tr><td>2017-12-31</td><td>ETH</td><td>733.01</td><td>736.41</td><td>728.20</td><td>730.00</td><td>1677471.7</td><td>733.01</td><td>688.33</td><td>691.45</td><td>672.15</td><td>600.88</td><td>718.00</td><td>452.03</td><td>295.20</td><td>339.29</td><td>1.1274375</td><td>742.98</td><td>2017-12-31 18:00:00</td></tr>\n",
       "\t<tr><td>2017-12-31</td><td>ETH</td><td>730.00</td><td>734.96</td><td>724.43</td><td>731.76</td><td>1381917.9</td><td>730.00</td><td>697.00</td><td>700.98</td><td>688.20</td><td>597.70</td><td>711.49</td><td>454.58</td><td>296.87</td><td>336.18</td><td>1.4535566</td><td>746.23</td><td>2017-12-31 19:00:00</td></tr>\n",
       "\t<tr><td>2017-12-31</td><td>ETH</td><td>731.76</td><td>740.00</td><td>731.75</td><td>738.00</td><td>1382637.2</td><td>731.76</td><td>688.80</td><td>694.59</td><td>690.94</td><td>621.00</td><td>716.63</td><td>461.13</td><td>298.80</td><td>325.63</td><td>1.1274342</td><td>757.42</td><td>2017-12-31 20:00:00</td></tr>\n",
       "\t<tr><td>2017-12-31</td><td>ETH</td><td>738.00</td><td>739.66</td><td>733.51</td><td>736.67</td><td> 762954.7</td><td>738.00</td><td>688.32</td><td>699.08</td><td>693.14</td><td>618.02</td><td>725.30</td><td>463.01</td><td>298.66</td><td>324.00</td><td>0.8384344</td><td>759.28</td><td>2017-12-31 21:00:00</td></tr>\n",
       "\t<tr><td>2017-12-31</td><td>ETH</td><td>736.67</td><td>740.00</td><td>734.77</td><td>735.60</td><td> 944651.9</td><td>736.67</td><td>703.52</td><td>697.50</td><td>696.99</td><td>635.20</td><td>713.00</td><td>456.40</td><td>296.21</td><td>329.72</td><td>0.7117874</td><td>754.58</td><td>2017-12-31 22:00:00</td></tr>\n",
       "\t<tr><td>2017-12-31</td><td>ETH</td><td>735.60</td><td>736.73</td><td>726.73</td><td>733.98</td><td> 835702.0</td><td>735.60</td><td>709.89</td><td>681.06</td><td>707.89</td><td>658.00</td><td>707.64</td><td>457.51</td><td>296.50</td><td>343.14</td><td>1.3760269</td><td>754.99</td><td>2017-12-31 23:00:00</td></tr>\n",
       "\t<tr><td>2017-12-31</td><td>ETH</td><td>709.89</td><td>723.83</td><td>706.87</td><td>713.99</td><td>2532590.8</td><td>733.98</td><td>701.91</td><td>670.15</td><td>683.00</td><td>590.00</td><td>701.20</td><td>442.43</td><td>297.50</td><td>351.92</td><td>2.3993096</td><td>745.00</td><td>2018-01-01 00:00:00</td></tr>\n",
       "\t<tr><td>2018-01-01</td><td>ETH</td><td>727.62</td><td>732.00</td><td>716.80</td><td>717.97</td><td>1644245.5</td><td>713.99</td><td>719.01</td><td>701.02</td><td>712.07</td><td>686.00</td><td>682.00</td><td>467.37</td><td>297.23</td><td>347.26</td><td>2.1205357</td><td>848.71</td><td>2018-01-01 01:00:00</td></tr>\n",
       "\t<tr><td>2018-01-01</td><td>ETH</td><td>717.97</td><td>725.75</td><td>717.59</td><td>724.05</td><td>1543469.1</td><td>717.97</td><td>727.45</td><td>711.06</td><td>732.47</td><td>673.63</td><td>690.00</td><td>465.00</td><td>298.00</td><td>347.48</td><td>1.1371396</td><td>857.94</td><td>2018-01-01 02:00:00</td></tr>\n",
       "\t<tr><td>2018-01-01</td><td>ETH</td><td>724.05</td><td>737.99</td><td>722.70</td><td>734.50</td><td>1541143.1</td><td>724.05</td><td>720.03</td><td>697.98</td><td>735.11</td><td>679.00</td><td>706.77</td><td>460.80</td><td>300.99</td><td>348.85</td><td>2.1156773</td><td>826.92</td><td>2018-01-01 03:00:00</td></tr>\n",
       "\t<tr><td>2018-01-01</td><td>ETH</td><td>734.50</td><td>744.98</td><td>730.01</td><td>744.82</td><td>1688976.6</td><td>734.50</td><td>728.48</td><td>698.64</td><td>733.70</td><td>693.62</td><td>703.39</td><td>455.01</td><td>298.11</td><td>355.21</td><td>2.0506568</td><td>833.99</td><td>2018-01-01 04:00:00</td></tr>\n",
       "\t<tr><td>2018-01-01</td><td>ETH</td><td>744.82</td><td>750.00</td><td>742.08</td><td>748.99</td><td>1647134.8</td><td>744.82</td><td>733.01</td><td>690.60</td><td>740.05</td><td>693.04</td><td>707.83</td><td>459.01</td><td>294.32</td><td>363.55</td><td>1.0672704</td><td>842.23</td><td>2018-01-01 05:00:00</td></tr>\n",
       "\t<tr><td>2018-01-01</td><td>ETH</td><td>748.99</td><td>762.18</td><td>746.21</td><td>762.18</td><td>1828394.9</td><td>748.99</td><td>730.00</td><td>688.33</td><td>744.00</td><td>698.01</td><td>709.60</td><td>463.04</td><td>292.62</td><td>356.01</td><td>2.1401482</td><td>847.72</td><td>2018-01-01 06:00:00</td></tr>\n",
       "\t<tr><td>...</td><td>...</td><td>...</td><td>...</td><td>...</td><td>...</td><td>...</td><td>...</td><td>...</td><td>...</td><td>...</td><td>...</td><td>...</td><td>...</td><td>...</td><td>...</td><td>...</td><td>...</td><td>...</td></tr>\n",
       "\t<tr><td>2020-08-07</td><td>ETH</td><td>373.20</td><td>376.81</td><td>372.33</td><td>374.36</td><td>18253778</td><td>373.20</td><td>394.13</td><td>396.73</td><td>386.61</td><td>343.71</td><td>283.11</td><td>248.56</td><td>212.37</td><td>169.17</td><td>1.2032337</td><td>389.26</td><td>2020-08-07 19:00:00</td></tr>\n",
       "\t<tr><td>2020-08-07</td><td>ETH</td><td>374.36</td><td>380.00</td><td>373.06</td><td>377.43</td><td>15750245</td><td>374.36</td><td>395.54</td><td>396.31</td><td>387.91</td><td>344.94</td><td>285.73</td><td>246.31</td><td>211.95</td><td>170.34</td><td>1.8602906</td><td>388.06</td><td>2020-08-07 20:00:00</td></tr>\n",
       "\t<tr><td>2020-08-07</td><td>ETH</td><td>377.43</td><td>379.76</td><td>376.22</td><td>379.29</td><td> 7896484</td><td>377.43</td><td>395.90</td><td>395.23</td><td>391.41</td><td>347.24</td><td>284.79</td><td>247.54</td><td>210.80</td><td>170.70</td><td>0.9409388</td><td>391.20</td><td>2020-08-07 21:00:00</td></tr>\n",
       "\t<tr><td>2020-08-07</td><td>ETH</td><td>379.29</td><td>383.23</td><td>378.07</td><td>380.22</td><td>10713720</td><td>379.29</td><td>394.74</td><td>394.44</td><td>392.88</td><td>343.71</td><td>280.51</td><td>247.29</td><td>210.96</td><td>170.75</td><td>1.3648266</td><td>390.74</td><td>2020-08-07 22:00:00</td></tr>\n",
       "\t<tr><td>2020-08-07</td><td>ETH</td><td>380.22</td><td>382.84</td><td>378.50</td><td>379.34</td><td> 6753829</td><td>380.22</td><td>394.13</td><td>394.77</td><td>389.61</td><td>346.33</td><td>279.15</td><td>246.95</td><td>210.07</td><td>169.52</td><td>1.1466314</td><td>397.03</td><td>2020-08-07 23:00:00</td></tr>\n",
       "\t<tr><td>2020-08-07</td><td>ETH</td><td>394.13</td><td>394.97</td><td>391.80</td><td>394.62</td><td>13200180</td><td>379.34</td><td>395.03</td><td>396.72</td><td>388.13</td><td>345.29</td><td>274.48</td><td>242.06</td><td>210.61</td><td>170.82</td><td>0.8090863</td><td>391.51</td><td>2020-08-08 00:00:00</td></tr>\n",
       "\t<tr><td>2020-08-08</td><td>ETH</td><td>379.30</td><td>382.73</td><td>379.30</td><td>381.41</td><td>10261928</td><td>394.62</td><td>393.98</td><td>397.05</td><td>388.40</td><td>345.22</td><td>282.86</td><td>244.57</td><td>190.39</td><td>168.81</td><td>0.9042974</td><td>395.62</td><td>2020-08-08 01:00:00</td></tr>\n",
       "\t<tr><td>2020-08-08</td><td>ETH</td><td>381.41</td><td>382.43</td><td>378.01</td><td>380.54</td><td> 6409933</td><td>381.41</td><td>384.91</td><td>396.27</td><td>387.80</td><td>346.65</td><td>283.20</td><td>244.57</td><td>187.79</td><td>168.25</td><td>1.1692812</td><td>395.20</td><td>2020-08-08 02:00:00</td></tr>\n",
       "\t<tr><td>2020-08-08</td><td>ETH</td><td>380.54</td><td>380.59</td><td>376.86</td><td>378.01</td><td> 6373335</td><td>380.54</td><td>385.49</td><td>395.43</td><td>389.39</td><td>352.26</td><td>282.89</td><td>244.68</td><td>185.93</td><td>163.37</td><td>0.9897575</td><td>394.87</td><td>2020-08-08 03:00:00</td></tr>\n",
       "\t<tr><td>2020-08-08</td><td>ETH</td><td>378.01</td><td>379.50</td><td>377.13</td><td>377.19</td><td> 6827757</td><td>378.01</td><td>379.11</td><td>395.74</td><td>388.52</td><td>353.82</td><td>283.47</td><td>244.93</td><td>186.23</td><td>163.28</td><td>0.6284305</td><td>393.91</td><td>2020-08-08 04:00:00</td></tr>\n",
       "\t<tr><td>2020-08-08</td><td>ETH</td><td>377.19</td><td>381.09</td><td>377.14</td><td>380.43</td><td> 5202294</td><td>377.19</td><td>373.56</td><td>394.50</td><td>391.40</td><td>355.59</td><td>284.45</td><td>245.20</td><td>187.53</td><td>160.85</td><td>1.0473564</td><td>392.53</td><td>2020-08-08 05:00:00</td></tr>\n",
       "\t<tr><td>2020-08-08</td><td>ETH</td><td>380.43</td><td>381.00</td><td>379.72</td><td>380.32</td><td> 4825279</td><td>380.43</td><td>373.20</td><td>394.87</td><td>390.36</td><td>356.02</td><td>284.39</td><td>247.44</td><td>187.42</td><td>160.59</td><td>0.3370905</td><td>392.78</td><td>2020-08-08 06:00:00</td></tr>\n",
       "\t<tr><td>2020-08-08</td><td>ETH</td><td>380.32</td><td>381.56</td><td>379.78</td><td>379.97</td><td> 5186699</td><td>380.32</td><td>374.36</td><td>394.13</td><td>390.04</td><td>354.99</td><td>283.01</td><td>246.71</td><td>190.73</td><td>158.05</td><td>0.4686924</td><td>395.34</td><td>2020-08-08 07:00:00</td></tr>\n",
       "\t<tr><td>2020-08-08</td><td>ETH</td><td>379.97</td><td>380.56</td><td>377.95</td><td>378.82</td><td> 7314853</td><td>379.97</td><td>377.43</td><td>395.54</td><td>390.35</td><td>356.71</td><td>283.77</td><td>246.20</td><td>191.11</td><td>157.92</td><td>0.6905675</td><td>394.32</td><td>2020-08-08 08:00:00</td></tr>\n",
       "\t<tr><td>2020-08-08</td><td>ETH</td><td>378.82</td><td>386.17</td><td>378.82</td><td>385.86</td><td>14437279</td><td>378.82</td><td>379.29</td><td>395.90</td><td>393.17</td><td>359.21</td><td>283.06</td><td>246.05</td><td>190.35</td><td>158.26</td><td>1.9402355</td><td>389.35</td><td>2020-08-08 09:00:00</td></tr>\n",
       "\t<tr><td>2020-08-08</td><td>ETH</td><td>385.86</td><td>388.62</td><td>384.16</td><td>387.25</td><td>12822461</td><td>385.86</td><td>380.22</td><td>394.74</td><td>392.54</td><td>354.92</td><td>282.61</td><td>244.82</td><td>190.90</td><td>158.90</td><td>1.1609746</td><td>391.17</td><td>2020-08-08 10:00:00</td></tr>\n",
       "\t<tr><td>2020-08-08</td><td>ETH</td><td>387.25</td><td>392.23</td><td>387.25</td><td>391.61</td><td>17277648</td><td>387.25</td><td>379.34</td><td>394.13</td><td>397.35</td><td>356.13</td><td>282.60</td><td>246.53</td><td>189.76</td><td>157.84</td><td>1.2859910</td><td>391.89</td><td>2020-08-08 11:00:00</td></tr>\n",
       "\t<tr><td>2020-08-08</td><td>ETH</td><td>379.34</td><td>380.48</td><td>375.79</td><td>379.30</td><td> 9435398</td><td>391.61</td><td>394.62</td><td>395.03</td><td>388.47</td><td>344.01</td><td>280.56</td><td>245.68</td><td>192.38</td><td>169.97</td><td>1.2480375</td><td>397.89</td><td>2020-08-08 12:00:00</td></tr>\n",
       "\t<tr><td>2020-08-08</td><td>ETH</td><td>391.51</td><td>392.13</td><td>388.95</td><td>390.19</td><td>10682952</td><td>379.30</td><td>381.41</td><td>393.98</td><td>398.98</td><td>353.52</td><td>284.01</td><td>245.63</td><td>190.35</td><td>157.97</td><td>0.8175858</td><td>387.57</td><td>2020-08-08 13:00:00</td></tr>\n",
       "\t<tr><td>2020-08-08</td><td>ETH</td><td>390.19</td><td>390.99</td><td>387.56</td><td>389.83</td><td>10094839</td><td>390.19</td><td>380.54</td><td>384.91</td><td>394.34</td><td>356.15</td><td>284.05</td><td>242.28</td><td>187.45</td><td>157.17</td><td>0.8850243</td><td>385.51</td><td>2020-08-08 14:00:00</td></tr>\n",
       "\t<tr><td>2020-08-08</td><td>ETH</td><td>389.83</td><td>392.48</td><td>389.77</td><td>390.46</td><td>12721002</td><td>389.83</td><td>378.01</td><td>385.49</td><td>395.30</td><td>357.89</td><td>286.08</td><td>239.87</td><td>188.34</td><td>153.06</td><td>0.6952818</td><td>386.66</td><td>2020-08-08 15:00:00</td></tr>\n",
       "\t<tr><td>2020-08-08</td><td>ETH</td><td>390.46</td><td>391.30</td><td>385.79</td><td>390.04</td><td>20004944</td><td>390.46</td><td>377.19</td><td>379.11</td><td>396.18</td><td>362.09</td><td>288.93</td><td>240.35</td><td>180.68</td><td>156.46</td><td>1.4282382</td><td>387.84</td><td>2020-08-08 16:00:00</td></tr>\n",
       "\t<tr><td>2020-08-08</td><td>ETH</td><td>390.04</td><td>392.55</td><td>386.80</td><td>391.57</td><td>11862305</td><td>390.04</td><td>380.43</td><td>373.56</td><td>397.26</td><td>373.25</td><td>296.67</td><td>240.20</td><td>184.65</td><td>157.38</td><td>1.4865564</td><td>385.08</td><td>2020-08-08 17:00:00</td></tr>\n",
       "\t<tr><td>2020-08-08</td><td>ETH</td><td>391.57</td><td>391.57</td><td>388.90</td><td>390.87</td><td> 7424777</td><td>391.57</td><td>380.32</td><td>373.20</td><td>397.43</td><td>371.20</td><td>295.84</td><td>240.46</td><td>184.24</td><td>157.65</td><td>0.6865518</td><td>390.00</td><td>2020-08-08 18:00:00</td></tr>\n",
       "\t<tr><td>2020-08-08</td><td>ETH</td><td>390.87</td><td>391.52</td><td>387.00</td><td>389.26</td><td> 9179260</td><td>390.87</td><td>379.97</td><td>374.36</td><td>398.56</td><td>383.30</td><td>296.51</td><td>239.98</td><td>185.22</td><td>158.12</td><td>1.1679587</td><td>389.48</td><td>2020-08-08 19:00:00</td></tr>\n",
       "\t<tr><td>2020-08-08</td><td>ETH</td><td>389.26</td><td>389.39</td><td>386.52</td><td>388.06</td><td> 6656987</td><td>389.26</td><td>378.82</td><td>377.43</td><td>400.09</td><td>386.00</td><td>305.71</td><td>241.24</td><td>187.78</td><td>158.90</td><td>0.7425230</td><td>392.86</td><td>2020-08-08 20:00:00</td></tr>\n",
       "\t<tr><td>2020-08-08</td><td>ETH</td><td>388.06</td><td>391.23</td><td>387.88</td><td>391.20</td><td> 7511644</td><td>388.06</td><td>385.86</td><td>379.29</td><td>405.30</td><td>384.34</td><td>303.46</td><td>241.78</td><td>189.03</td><td>158.53</td><td>0.8636692</td><td>389.17</td><td>2020-08-08 21:00:00</td></tr>\n",
       "\t<tr><td>2020-08-08</td><td>ETH</td><td>391.20</td><td>392.00</td><td>389.34</td><td>390.74</td><td> 5824672</td><td>391.20</td><td>387.25</td><td>380.22</td><td>396.72</td><td>387.33</td><td>306.39</td><td>241.67</td><td>188.38</td><td>157.88</td><td>0.6832075</td><td>388.81</td><td>2020-08-08 22:00:00</td></tr>\n",
       "\t<tr><td>2020-08-08</td><td>ETH</td><td>390.74</td><td>397.05</td><td>388.51</td><td>397.03</td><td>16771612</td><td>390.74</td><td>391.61</td><td>379.34</td><td>400.72</td><td>387.00</td><td>305.26</td><td>241.98</td><td>187.54</td><td>157.81</td><td>2.1981416</td><td>390.14</td><td>2020-08-08 23:00:00</td></tr>\n",
       "\t<tr><td>2020-08-08</td><td>ETH</td><td>391.61</td><td>393.22</td><td>389.66</td><td>391.51</td><td>15889338</td><td>397.03</td><td>379.30</td><td>394.62</td><td>398.94</td><td>356.97</td><td>285.15</td><td>247.28</td><td>189.44</td><td>158.54</td><td>0.9136170</td><td>389.19</td><td>2020-08-09 00:00:00</td></tr>\n",
       "</tbody>\n",
       "</table>\n"
      ],
      "text/latex": [
       "A tibble: 22847 × 19\n",
       "\\begin{tabular}{lllllllllllllllllll}\n",
       " Date & Symbol & Open & High & Low & Close & VolumeUSDT & CloseLag1Hour & CloseLag12Hour & CloseLag24Hour & CloseLag3Day & CloseLag7Day & CloseLag14Day & CloseLag30Day & CloseLag90Day & CloseLag120Day & Volatility & Target24HourClose & DateTime\\\\\n",
       " <date> & <chr> & <dbl> & <dbl> & <dbl> & <dbl> & <dbl> & <dbl> & <dbl> & <dbl> & <dbl> & <dbl> & <dbl> & <dbl> & <dbl> & <dbl> & <dbl> & <dbl> & <dttm>\\\\\n",
       "\\hline\n",
       "\t 2017-12-31 & ETH & 701.91 & 710.00 & 697.59 & 701.02 & 2101864.3 & 670.15 & 676.38 & 710.01 & 738.50 & 625.00 & 702.20 & 421.72 & 302.88 & 384.47 & 1.7789819 & 717.97 & 2017-12-31 01:00:00\\\\\n",
       "\t 2017-12-31 & ETH & 701.02 & 714.15 & 698.00 & 711.06 & 2051671.5 & 701.02 & 677.82 & 690.00 & 670.00 & 583.00 & 705.55 & 426.12 & 300.90 & 382.68 & 2.3137536 & 724.05 & 2017-12-31 02:00:00\\\\\n",
       "\t 2017-12-31 & ETH & 711.08 & 712.18 & 683.68 & 697.98 & 1900145.0 & 711.06 & 673.27 & 691.10 & 695.94 & 636.88 & 711.06 & 426.01 & 301.46 & 378.52 & 4.1686169 & 734.50 & 2017-12-31 03:00:00\\\\\n",
       "\t 2017-12-31 & ETH & 697.98 & 699.72 & 680.00 & 698.64 & 1995594.9 & 697.98 & 655.96 & 671.15 & 697.85 & 634.20 & 711.00 & 430.90 & 301.87 & 375.75 & 2.9000000 & 744.82 & 2017-12-31 04:00:00\\\\\n",
       "\t 2017-12-31 & ETH & 698.64 & 705.99 & 688.20 & 690.60 & 1631923.4 & 698.64 & 685.01 & 695.65 & 674.06 & 649.78 & 712.00 & 422.09 & 303.55 & 347.61 & 2.5850044 & 748.99 & 2017-12-31 05:00:00\\\\\n",
       "\t 2017-12-31 & ETH & 690.60 & 698.81 & 683.52 & 688.33 & 1911141.1 & 690.60 & 691.45 & 693.21 & 680.00 & 658.35 & 712.00 & 417.98 & 302.51 & 367.60 & 2.2369499 & 762.18 & 2017-12-31 06:00:00\\\\\n",
       "\t 2017-12-31 & ETH & 688.33 & 699.50 & 685.31 & 697.00 & 1300044.7 & 688.33 & 700.98 & 707.01 & 687.52 & 639.01 & 712.99 & 418.80 & 302.38 & 363.70 & 2.0705958 & 751.99 & 2017-12-31 07:00:00\\\\\n",
       "\t 2017-12-31 & ETH & 697.00 & 699.99 & 688.55 & 688.80 & 1678652.6 & 697.00 & 694.59 & 698.91 & 691.00 & 655.11 & 708.81 & 427.02 & 301.29 & 355.42 & 1.6614625 & 745.00 & 2017-12-31 08:00:00\\\\\n",
       "\t 2017-12-31 & ETH & 688.80 & 694.19 & 682.16 & 688.32 & 1310711.6 & 688.80 & 699.08 & 699.01 & 683.70 & 623.96 & 711.00 & 432.02 & 302.18 & 351.60 & 1.7635159 & 753.21 & 2017-12-31 09:00:00\\\\\n",
       "\t 2017-12-31 & ETH & 688.32 & 705.00 & 686.01 & 703.52 & 1635646.4 & 688.32 & 697.50 & 689.00 & 654.00 & 614.90 & 712.99 & 428.48 & 302.87 & 356.58 & 2.7681812 & 757.10 & 2017-12-31 10:00:00\\\\\n",
       "\t 2017-12-31 & ETH & 703.52 & 712.50 & 701.78 & 709.89 & 1628999.3 & 703.52 & 681.06 & 698.19 & 668.79 & 591.10 & 712.12 & 433.00 & 300.41 & 357.00 & 1.5275442 & 741.01 & 2017-12-31 11:00:00\\\\\n",
       "\t 2017-12-31 & ETH & 681.06 & 704.97 & 672.86 & 701.91 & 2788607.4 & 709.89 & 670.15 & 729.67 & 732.60 & 634.74 & 699.77 & 421.42 & 301.68 & 394.32 & 4.7721666 & 727.62 & 2017-12-31 12:00:00\\\\\n",
       "\t 2017-12-31 & ETH & 713.99 & 725.00 & 709.98 & 719.01 & 1906377.1 & 701.91 & 701.02 & 676.38 & 688.61 & 617.21 & 706.69 & 456.32 & 299.01 & 353.09 & 2.1155526 & 738.93 & 2017-12-31 13:00:00\\\\\n",
       "\t 2017-12-31 & ETH & 719.01 & 730.03 & 717.01 & 727.45 & 2367772.3 & 719.01 & 711.06 & 677.82 & 700.32 & 627.39 & 703.29 & 443.97 & 299.00 & 335.32 & 1.8158743 & 742.74 & 2017-12-31 14:00:00\\\\\n",
       "\t 2017-12-31 & ETH & 727.45 & 727.46 & 711.10 & 720.03 & 2225450.9 & 727.45 & 697.98 & 673.27 & 701.00 & 609.00 & 704.53 & 446.66 & 300.80 & 341.72 & 2.3006609 & 748.80 & 2017-12-31 15:00:00\\\\\n",
       "\t 2017-12-31 & ETH & 720.03 & 739.80 & 720.03 & 728.48 & 3658469.0 & 720.03 & 698.64 & 655.96 & 686.00 & 617.63 & 698.01 & 449.99 & 298.13 & 336.97 & 2.7457189 & 739.08 & 2017-12-31 16:00:00\\\\\n",
       "\t 2017-12-31 & ETH & 728.48 & 738.99 & 723.92 & 733.01 & 1802514.4 & 728.48 & 690.60 & 685.01 & 698.00 & 610.30 & 705.00 & 447.68 & 295.46 & 341.63 & 2.0817217 & 737.02 & 2017-12-31 17:00:00\\\\\n",
       "\t 2017-12-31 & ETH & 733.01 & 736.41 & 728.20 & 730.00 & 1677471.7 & 733.01 & 688.33 & 691.45 & 672.15 & 600.88 & 718.00 & 452.03 & 295.20 & 339.29 & 1.1274375 & 742.98 & 2017-12-31 18:00:00\\\\\n",
       "\t 2017-12-31 & ETH & 730.00 & 734.96 & 724.43 & 731.76 & 1381917.9 & 730.00 & 697.00 & 700.98 & 688.20 & 597.70 & 711.49 & 454.58 & 296.87 & 336.18 & 1.4535566 & 746.23 & 2017-12-31 19:00:00\\\\\n",
       "\t 2017-12-31 & ETH & 731.76 & 740.00 & 731.75 & 738.00 & 1382637.2 & 731.76 & 688.80 & 694.59 & 690.94 & 621.00 & 716.63 & 461.13 & 298.80 & 325.63 & 1.1274342 & 757.42 & 2017-12-31 20:00:00\\\\\n",
       "\t 2017-12-31 & ETH & 738.00 & 739.66 & 733.51 & 736.67 &  762954.7 & 738.00 & 688.32 & 699.08 & 693.14 & 618.02 & 725.30 & 463.01 & 298.66 & 324.00 & 0.8384344 & 759.28 & 2017-12-31 21:00:00\\\\\n",
       "\t 2017-12-31 & ETH & 736.67 & 740.00 & 734.77 & 735.60 &  944651.9 & 736.67 & 703.52 & 697.50 & 696.99 & 635.20 & 713.00 & 456.40 & 296.21 & 329.72 & 0.7117874 & 754.58 & 2017-12-31 22:00:00\\\\\n",
       "\t 2017-12-31 & ETH & 735.60 & 736.73 & 726.73 & 733.98 &  835702.0 & 735.60 & 709.89 & 681.06 & 707.89 & 658.00 & 707.64 & 457.51 & 296.50 & 343.14 & 1.3760269 & 754.99 & 2017-12-31 23:00:00\\\\\n",
       "\t 2017-12-31 & ETH & 709.89 & 723.83 & 706.87 & 713.99 & 2532590.8 & 733.98 & 701.91 & 670.15 & 683.00 & 590.00 & 701.20 & 442.43 & 297.50 & 351.92 & 2.3993096 & 745.00 & 2018-01-01 00:00:00\\\\\n",
       "\t 2018-01-01 & ETH & 727.62 & 732.00 & 716.80 & 717.97 & 1644245.5 & 713.99 & 719.01 & 701.02 & 712.07 & 686.00 & 682.00 & 467.37 & 297.23 & 347.26 & 2.1205357 & 848.71 & 2018-01-01 01:00:00\\\\\n",
       "\t 2018-01-01 & ETH & 717.97 & 725.75 & 717.59 & 724.05 & 1543469.1 & 717.97 & 727.45 & 711.06 & 732.47 & 673.63 & 690.00 & 465.00 & 298.00 & 347.48 & 1.1371396 & 857.94 & 2018-01-01 02:00:00\\\\\n",
       "\t 2018-01-01 & ETH & 724.05 & 737.99 & 722.70 & 734.50 & 1541143.1 & 724.05 & 720.03 & 697.98 & 735.11 & 679.00 & 706.77 & 460.80 & 300.99 & 348.85 & 2.1156773 & 826.92 & 2018-01-01 03:00:00\\\\\n",
       "\t 2018-01-01 & ETH & 734.50 & 744.98 & 730.01 & 744.82 & 1688976.6 & 734.50 & 728.48 & 698.64 & 733.70 & 693.62 & 703.39 & 455.01 & 298.11 & 355.21 & 2.0506568 & 833.99 & 2018-01-01 04:00:00\\\\\n",
       "\t 2018-01-01 & ETH & 744.82 & 750.00 & 742.08 & 748.99 & 1647134.8 & 744.82 & 733.01 & 690.60 & 740.05 & 693.04 & 707.83 & 459.01 & 294.32 & 363.55 & 1.0672704 & 842.23 & 2018-01-01 05:00:00\\\\\n",
       "\t 2018-01-01 & ETH & 748.99 & 762.18 & 746.21 & 762.18 & 1828394.9 & 748.99 & 730.00 & 688.33 & 744.00 & 698.01 & 709.60 & 463.04 & 292.62 & 356.01 & 2.1401482 & 847.72 & 2018-01-01 06:00:00\\\\\n",
       "\t ... & ... & ... & ... & ... & ... & ... & ... & ... & ... & ... & ... & ... & ... & ... & ... & ... & ... & ...\\\\\n",
       "\t 2020-08-07 & ETH & 373.20 & 376.81 & 372.33 & 374.36 & 18253778 & 373.20 & 394.13 & 396.73 & 386.61 & 343.71 & 283.11 & 248.56 & 212.37 & 169.17 & 1.2032337 & 389.26 & 2020-08-07 19:00:00\\\\\n",
       "\t 2020-08-07 & ETH & 374.36 & 380.00 & 373.06 & 377.43 & 15750245 & 374.36 & 395.54 & 396.31 & 387.91 & 344.94 & 285.73 & 246.31 & 211.95 & 170.34 & 1.8602906 & 388.06 & 2020-08-07 20:00:00\\\\\n",
       "\t 2020-08-07 & ETH & 377.43 & 379.76 & 376.22 & 379.29 &  7896484 & 377.43 & 395.90 & 395.23 & 391.41 & 347.24 & 284.79 & 247.54 & 210.80 & 170.70 & 0.9409388 & 391.20 & 2020-08-07 21:00:00\\\\\n",
       "\t 2020-08-07 & ETH & 379.29 & 383.23 & 378.07 & 380.22 & 10713720 & 379.29 & 394.74 & 394.44 & 392.88 & 343.71 & 280.51 & 247.29 & 210.96 & 170.75 & 1.3648266 & 390.74 & 2020-08-07 22:00:00\\\\\n",
       "\t 2020-08-07 & ETH & 380.22 & 382.84 & 378.50 & 379.34 &  6753829 & 380.22 & 394.13 & 394.77 & 389.61 & 346.33 & 279.15 & 246.95 & 210.07 & 169.52 & 1.1466314 & 397.03 & 2020-08-07 23:00:00\\\\\n",
       "\t 2020-08-07 & ETH & 394.13 & 394.97 & 391.80 & 394.62 & 13200180 & 379.34 & 395.03 & 396.72 & 388.13 & 345.29 & 274.48 & 242.06 & 210.61 & 170.82 & 0.8090863 & 391.51 & 2020-08-08 00:00:00\\\\\n",
       "\t 2020-08-08 & ETH & 379.30 & 382.73 & 379.30 & 381.41 & 10261928 & 394.62 & 393.98 & 397.05 & 388.40 & 345.22 & 282.86 & 244.57 & 190.39 & 168.81 & 0.9042974 & 395.62 & 2020-08-08 01:00:00\\\\\n",
       "\t 2020-08-08 & ETH & 381.41 & 382.43 & 378.01 & 380.54 &  6409933 & 381.41 & 384.91 & 396.27 & 387.80 & 346.65 & 283.20 & 244.57 & 187.79 & 168.25 & 1.1692812 & 395.20 & 2020-08-08 02:00:00\\\\\n",
       "\t 2020-08-08 & ETH & 380.54 & 380.59 & 376.86 & 378.01 &  6373335 & 380.54 & 385.49 & 395.43 & 389.39 & 352.26 & 282.89 & 244.68 & 185.93 & 163.37 & 0.9897575 & 394.87 & 2020-08-08 03:00:00\\\\\n",
       "\t 2020-08-08 & ETH & 378.01 & 379.50 & 377.13 & 377.19 &  6827757 & 378.01 & 379.11 & 395.74 & 388.52 & 353.82 & 283.47 & 244.93 & 186.23 & 163.28 & 0.6284305 & 393.91 & 2020-08-08 04:00:00\\\\\n",
       "\t 2020-08-08 & ETH & 377.19 & 381.09 & 377.14 & 380.43 &  5202294 & 377.19 & 373.56 & 394.50 & 391.40 & 355.59 & 284.45 & 245.20 & 187.53 & 160.85 & 1.0473564 & 392.53 & 2020-08-08 05:00:00\\\\\n",
       "\t 2020-08-08 & ETH & 380.43 & 381.00 & 379.72 & 380.32 &  4825279 & 380.43 & 373.20 & 394.87 & 390.36 & 356.02 & 284.39 & 247.44 & 187.42 & 160.59 & 0.3370905 & 392.78 & 2020-08-08 06:00:00\\\\\n",
       "\t 2020-08-08 & ETH & 380.32 & 381.56 & 379.78 & 379.97 &  5186699 & 380.32 & 374.36 & 394.13 & 390.04 & 354.99 & 283.01 & 246.71 & 190.73 & 158.05 & 0.4686924 & 395.34 & 2020-08-08 07:00:00\\\\\n",
       "\t 2020-08-08 & ETH & 379.97 & 380.56 & 377.95 & 378.82 &  7314853 & 379.97 & 377.43 & 395.54 & 390.35 & 356.71 & 283.77 & 246.20 & 191.11 & 157.92 & 0.6905675 & 394.32 & 2020-08-08 08:00:00\\\\\n",
       "\t 2020-08-08 & ETH & 378.82 & 386.17 & 378.82 & 385.86 & 14437279 & 378.82 & 379.29 & 395.90 & 393.17 & 359.21 & 283.06 & 246.05 & 190.35 & 158.26 & 1.9402355 & 389.35 & 2020-08-08 09:00:00\\\\\n",
       "\t 2020-08-08 & ETH & 385.86 & 388.62 & 384.16 & 387.25 & 12822461 & 385.86 & 380.22 & 394.74 & 392.54 & 354.92 & 282.61 & 244.82 & 190.90 & 158.90 & 1.1609746 & 391.17 & 2020-08-08 10:00:00\\\\\n",
       "\t 2020-08-08 & ETH & 387.25 & 392.23 & 387.25 & 391.61 & 17277648 & 387.25 & 379.34 & 394.13 & 397.35 & 356.13 & 282.60 & 246.53 & 189.76 & 157.84 & 1.2859910 & 391.89 & 2020-08-08 11:00:00\\\\\n",
       "\t 2020-08-08 & ETH & 379.34 & 380.48 & 375.79 & 379.30 &  9435398 & 391.61 & 394.62 & 395.03 & 388.47 & 344.01 & 280.56 & 245.68 & 192.38 & 169.97 & 1.2480375 & 397.89 & 2020-08-08 12:00:00\\\\\n",
       "\t 2020-08-08 & ETH & 391.51 & 392.13 & 388.95 & 390.19 & 10682952 & 379.30 & 381.41 & 393.98 & 398.98 & 353.52 & 284.01 & 245.63 & 190.35 & 157.97 & 0.8175858 & 387.57 & 2020-08-08 13:00:00\\\\\n",
       "\t 2020-08-08 & ETH & 390.19 & 390.99 & 387.56 & 389.83 & 10094839 & 390.19 & 380.54 & 384.91 & 394.34 & 356.15 & 284.05 & 242.28 & 187.45 & 157.17 & 0.8850243 & 385.51 & 2020-08-08 14:00:00\\\\\n",
       "\t 2020-08-08 & ETH & 389.83 & 392.48 & 389.77 & 390.46 & 12721002 & 389.83 & 378.01 & 385.49 & 395.30 & 357.89 & 286.08 & 239.87 & 188.34 & 153.06 & 0.6952818 & 386.66 & 2020-08-08 15:00:00\\\\\n",
       "\t 2020-08-08 & ETH & 390.46 & 391.30 & 385.79 & 390.04 & 20004944 & 390.46 & 377.19 & 379.11 & 396.18 & 362.09 & 288.93 & 240.35 & 180.68 & 156.46 & 1.4282382 & 387.84 & 2020-08-08 16:00:00\\\\\n",
       "\t 2020-08-08 & ETH & 390.04 & 392.55 & 386.80 & 391.57 & 11862305 & 390.04 & 380.43 & 373.56 & 397.26 & 373.25 & 296.67 & 240.20 & 184.65 & 157.38 & 1.4865564 & 385.08 & 2020-08-08 17:00:00\\\\\n",
       "\t 2020-08-08 & ETH & 391.57 & 391.57 & 388.90 & 390.87 &  7424777 & 391.57 & 380.32 & 373.20 & 397.43 & 371.20 & 295.84 & 240.46 & 184.24 & 157.65 & 0.6865518 & 390.00 & 2020-08-08 18:00:00\\\\\n",
       "\t 2020-08-08 & ETH & 390.87 & 391.52 & 387.00 & 389.26 &  9179260 & 390.87 & 379.97 & 374.36 & 398.56 & 383.30 & 296.51 & 239.98 & 185.22 & 158.12 & 1.1679587 & 389.48 & 2020-08-08 19:00:00\\\\\n",
       "\t 2020-08-08 & ETH & 389.26 & 389.39 & 386.52 & 388.06 &  6656987 & 389.26 & 378.82 & 377.43 & 400.09 & 386.00 & 305.71 & 241.24 & 187.78 & 158.90 & 0.7425230 & 392.86 & 2020-08-08 20:00:00\\\\\n",
       "\t 2020-08-08 & ETH & 388.06 & 391.23 & 387.88 & 391.20 &  7511644 & 388.06 & 385.86 & 379.29 & 405.30 & 384.34 & 303.46 & 241.78 & 189.03 & 158.53 & 0.8636692 & 389.17 & 2020-08-08 21:00:00\\\\\n",
       "\t 2020-08-08 & ETH & 391.20 & 392.00 & 389.34 & 390.74 &  5824672 & 391.20 & 387.25 & 380.22 & 396.72 & 387.33 & 306.39 & 241.67 & 188.38 & 157.88 & 0.6832075 & 388.81 & 2020-08-08 22:00:00\\\\\n",
       "\t 2020-08-08 & ETH & 390.74 & 397.05 & 388.51 & 397.03 & 16771612 & 390.74 & 391.61 & 379.34 & 400.72 & 387.00 & 305.26 & 241.98 & 187.54 & 157.81 & 2.1981416 & 390.14 & 2020-08-08 23:00:00\\\\\n",
       "\t 2020-08-08 & ETH & 391.61 & 393.22 & 389.66 & 391.51 & 15889338 & 397.03 & 379.30 & 394.62 & 398.94 & 356.97 & 285.15 & 247.28 & 189.44 & 158.54 & 0.9136170 & 389.19 & 2020-08-09 00:00:00\\\\\n",
       "\\end{tabular}\n"
      ],
      "text/markdown": [
       "\n",
       "A tibble: 22847 × 19\n",
       "\n",
       "| Date &lt;date&gt; | Symbol &lt;chr&gt; | Open &lt;dbl&gt; | High &lt;dbl&gt; | Low &lt;dbl&gt; | Close &lt;dbl&gt; | VolumeUSDT &lt;dbl&gt; | CloseLag1Hour &lt;dbl&gt; | CloseLag12Hour &lt;dbl&gt; | CloseLag24Hour &lt;dbl&gt; | CloseLag3Day &lt;dbl&gt; | CloseLag7Day &lt;dbl&gt; | CloseLag14Day &lt;dbl&gt; | CloseLag30Day &lt;dbl&gt; | CloseLag90Day &lt;dbl&gt; | CloseLag120Day &lt;dbl&gt; | Volatility &lt;dbl&gt; | Target24HourClose &lt;dbl&gt; | DateTime &lt;dttm&gt; |\n",
       "|---|---|---|---|---|---|---|---|---|---|---|---|---|---|---|---|---|---|---|\n",
       "| 2017-12-31 | ETH | 701.91 | 710.00 | 697.59 | 701.02 | 2101864.3 | 670.15 | 676.38 | 710.01 | 738.50 | 625.00 | 702.20 | 421.72 | 302.88 | 384.47 | 1.7789819 | 717.97 | 2017-12-31 01:00:00 |\n",
       "| 2017-12-31 | ETH | 701.02 | 714.15 | 698.00 | 711.06 | 2051671.5 | 701.02 | 677.82 | 690.00 | 670.00 | 583.00 | 705.55 | 426.12 | 300.90 | 382.68 | 2.3137536 | 724.05 | 2017-12-31 02:00:00 |\n",
       "| 2017-12-31 | ETH | 711.08 | 712.18 | 683.68 | 697.98 | 1900145.0 | 711.06 | 673.27 | 691.10 | 695.94 | 636.88 | 711.06 | 426.01 | 301.46 | 378.52 | 4.1686169 | 734.50 | 2017-12-31 03:00:00 |\n",
       "| 2017-12-31 | ETH | 697.98 | 699.72 | 680.00 | 698.64 | 1995594.9 | 697.98 | 655.96 | 671.15 | 697.85 | 634.20 | 711.00 | 430.90 | 301.87 | 375.75 | 2.9000000 | 744.82 | 2017-12-31 04:00:00 |\n",
       "| 2017-12-31 | ETH | 698.64 | 705.99 | 688.20 | 690.60 | 1631923.4 | 698.64 | 685.01 | 695.65 | 674.06 | 649.78 | 712.00 | 422.09 | 303.55 | 347.61 | 2.5850044 | 748.99 | 2017-12-31 05:00:00 |\n",
       "| 2017-12-31 | ETH | 690.60 | 698.81 | 683.52 | 688.33 | 1911141.1 | 690.60 | 691.45 | 693.21 | 680.00 | 658.35 | 712.00 | 417.98 | 302.51 | 367.60 | 2.2369499 | 762.18 | 2017-12-31 06:00:00 |\n",
       "| 2017-12-31 | ETH | 688.33 | 699.50 | 685.31 | 697.00 | 1300044.7 | 688.33 | 700.98 | 707.01 | 687.52 | 639.01 | 712.99 | 418.80 | 302.38 | 363.70 | 2.0705958 | 751.99 | 2017-12-31 07:00:00 |\n",
       "| 2017-12-31 | ETH | 697.00 | 699.99 | 688.55 | 688.80 | 1678652.6 | 697.00 | 694.59 | 698.91 | 691.00 | 655.11 | 708.81 | 427.02 | 301.29 | 355.42 | 1.6614625 | 745.00 | 2017-12-31 08:00:00 |\n",
       "| 2017-12-31 | ETH | 688.80 | 694.19 | 682.16 | 688.32 | 1310711.6 | 688.80 | 699.08 | 699.01 | 683.70 | 623.96 | 711.00 | 432.02 | 302.18 | 351.60 | 1.7635159 | 753.21 | 2017-12-31 09:00:00 |\n",
       "| 2017-12-31 | ETH | 688.32 | 705.00 | 686.01 | 703.52 | 1635646.4 | 688.32 | 697.50 | 689.00 | 654.00 | 614.90 | 712.99 | 428.48 | 302.87 | 356.58 | 2.7681812 | 757.10 | 2017-12-31 10:00:00 |\n",
       "| 2017-12-31 | ETH | 703.52 | 712.50 | 701.78 | 709.89 | 1628999.3 | 703.52 | 681.06 | 698.19 | 668.79 | 591.10 | 712.12 | 433.00 | 300.41 | 357.00 | 1.5275442 | 741.01 | 2017-12-31 11:00:00 |\n",
       "| 2017-12-31 | ETH | 681.06 | 704.97 | 672.86 | 701.91 | 2788607.4 | 709.89 | 670.15 | 729.67 | 732.60 | 634.74 | 699.77 | 421.42 | 301.68 | 394.32 | 4.7721666 | 727.62 | 2017-12-31 12:00:00 |\n",
       "| 2017-12-31 | ETH | 713.99 | 725.00 | 709.98 | 719.01 | 1906377.1 | 701.91 | 701.02 | 676.38 | 688.61 | 617.21 | 706.69 | 456.32 | 299.01 | 353.09 | 2.1155526 | 738.93 | 2017-12-31 13:00:00 |\n",
       "| 2017-12-31 | ETH | 719.01 | 730.03 | 717.01 | 727.45 | 2367772.3 | 719.01 | 711.06 | 677.82 | 700.32 | 627.39 | 703.29 | 443.97 | 299.00 | 335.32 | 1.8158743 | 742.74 | 2017-12-31 14:00:00 |\n",
       "| 2017-12-31 | ETH | 727.45 | 727.46 | 711.10 | 720.03 | 2225450.9 | 727.45 | 697.98 | 673.27 | 701.00 | 609.00 | 704.53 | 446.66 | 300.80 | 341.72 | 2.3006609 | 748.80 | 2017-12-31 15:00:00 |\n",
       "| 2017-12-31 | ETH | 720.03 | 739.80 | 720.03 | 728.48 | 3658469.0 | 720.03 | 698.64 | 655.96 | 686.00 | 617.63 | 698.01 | 449.99 | 298.13 | 336.97 | 2.7457189 | 739.08 | 2017-12-31 16:00:00 |\n",
       "| 2017-12-31 | ETH | 728.48 | 738.99 | 723.92 | 733.01 | 1802514.4 | 728.48 | 690.60 | 685.01 | 698.00 | 610.30 | 705.00 | 447.68 | 295.46 | 341.63 | 2.0817217 | 737.02 | 2017-12-31 17:00:00 |\n",
       "| 2017-12-31 | ETH | 733.01 | 736.41 | 728.20 | 730.00 | 1677471.7 | 733.01 | 688.33 | 691.45 | 672.15 | 600.88 | 718.00 | 452.03 | 295.20 | 339.29 | 1.1274375 | 742.98 | 2017-12-31 18:00:00 |\n",
       "| 2017-12-31 | ETH | 730.00 | 734.96 | 724.43 | 731.76 | 1381917.9 | 730.00 | 697.00 | 700.98 | 688.20 | 597.70 | 711.49 | 454.58 | 296.87 | 336.18 | 1.4535566 | 746.23 | 2017-12-31 19:00:00 |\n",
       "| 2017-12-31 | ETH | 731.76 | 740.00 | 731.75 | 738.00 | 1382637.2 | 731.76 | 688.80 | 694.59 | 690.94 | 621.00 | 716.63 | 461.13 | 298.80 | 325.63 | 1.1274342 | 757.42 | 2017-12-31 20:00:00 |\n",
       "| 2017-12-31 | ETH | 738.00 | 739.66 | 733.51 | 736.67 |  762954.7 | 738.00 | 688.32 | 699.08 | 693.14 | 618.02 | 725.30 | 463.01 | 298.66 | 324.00 | 0.8384344 | 759.28 | 2017-12-31 21:00:00 |\n",
       "| 2017-12-31 | ETH | 736.67 | 740.00 | 734.77 | 735.60 |  944651.9 | 736.67 | 703.52 | 697.50 | 696.99 | 635.20 | 713.00 | 456.40 | 296.21 | 329.72 | 0.7117874 | 754.58 | 2017-12-31 22:00:00 |\n",
       "| 2017-12-31 | ETH | 735.60 | 736.73 | 726.73 | 733.98 |  835702.0 | 735.60 | 709.89 | 681.06 | 707.89 | 658.00 | 707.64 | 457.51 | 296.50 | 343.14 | 1.3760269 | 754.99 | 2017-12-31 23:00:00 |\n",
       "| 2017-12-31 | ETH | 709.89 | 723.83 | 706.87 | 713.99 | 2532590.8 | 733.98 | 701.91 | 670.15 | 683.00 | 590.00 | 701.20 | 442.43 | 297.50 | 351.92 | 2.3993096 | 745.00 | 2018-01-01 00:00:00 |\n",
       "| 2018-01-01 | ETH | 727.62 | 732.00 | 716.80 | 717.97 | 1644245.5 | 713.99 | 719.01 | 701.02 | 712.07 | 686.00 | 682.00 | 467.37 | 297.23 | 347.26 | 2.1205357 | 848.71 | 2018-01-01 01:00:00 |\n",
       "| 2018-01-01 | ETH | 717.97 | 725.75 | 717.59 | 724.05 | 1543469.1 | 717.97 | 727.45 | 711.06 | 732.47 | 673.63 | 690.00 | 465.00 | 298.00 | 347.48 | 1.1371396 | 857.94 | 2018-01-01 02:00:00 |\n",
       "| 2018-01-01 | ETH | 724.05 | 737.99 | 722.70 | 734.50 | 1541143.1 | 724.05 | 720.03 | 697.98 | 735.11 | 679.00 | 706.77 | 460.80 | 300.99 | 348.85 | 2.1156773 | 826.92 | 2018-01-01 03:00:00 |\n",
       "| 2018-01-01 | ETH | 734.50 | 744.98 | 730.01 | 744.82 | 1688976.6 | 734.50 | 728.48 | 698.64 | 733.70 | 693.62 | 703.39 | 455.01 | 298.11 | 355.21 | 2.0506568 | 833.99 | 2018-01-01 04:00:00 |\n",
       "| 2018-01-01 | ETH | 744.82 | 750.00 | 742.08 | 748.99 | 1647134.8 | 744.82 | 733.01 | 690.60 | 740.05 | 693.04 | 707.83 | 459.01 | 294.32 | 363.55 | 1.0672704 | 842.23 | 2018-01-01 05:00:00 |\n",
       "| 2018-01-01 | ETH | 748.99 | 762.18 | 746.21 | 762.18 | 1828394.9 | 748.99 | 730.00 | 688.33 | 744.00 | 698.01 | 709.60 | 463.04 | 292.62 | 356.01 | 2.1401482 | 847.72 | 2018-01-01 06:00:00 |\n",
       "| ... | ... | ... | ... | ... | ... | ... | ... | ... | ... | ... | ... | ... | ... | ... | ... | ... | ... | ... |\n",
       "| 2020-08-07 | ETH | 373.20 | 376.81 | 372.33 | 374.36 | 18253778 | 373.20 | 394.13 | 396.73 | 386.61 | 343.71 | 283.11 | 248.56 | 212.37 | 169.17 | 1.2032337 | 389.26 | 2020-08-07 19:00:00 |\n",
       "| 2020-08-07 | ETH | 374.36 | 380.00 | 373.06 | 377.43 | 15750245 | 374.36 | 395.54 | 396.31 | 387.91 | 344.94 | 285.73 | 246.31 | 211.95 | 170.34 | 1.8602906 | 388.06 | 2020-08-07 20:00:00 |\n",
       "| 2020-08-07 | ETH | 377.43 | 379.76 | 376.22 | 379.29 |  7896484 | 377.43 | 395.90 | 395.23 | 391.41 | 347.24 | 284.79 | 247.54 | 210.80 | 170.70 | 0.9409388 | 391.20 | 2020-08-07 21:00:00 |\n",
       "| 2020-08-07 | ETH | 379.29 | 383.23 | 378.07 | 380.22 | 10713720 | 379.29 | 394.74 | 394.44 | 392.88 | 343.71 | 280.51 | 247.29 | 210.96 | 170.75 | 1.3648266 | 390.74 | 2020-08-07 22:00:00 |\n",
       "| 2020-08-07 | ETH | 380.22 | 382.84 | 378.50 | 379.34 |  6753829 | 380.22 | 394.13 | 394.77 | 389.61 | 346.33 | 279.15 | 246.95 | 210.07 | 169.52 | 1.1466314 | 397.03 | 2020-08-07 23:00:00 |\n",
       "| 2020-08-07 | ETH | 394.13 | 394.97 | 391.80 | 394.62 | 13200180 | 379.34 | 395.03 | 396.72 | 388.13 | 345.29 | 274.48 | 242.06 | 210.61 | 170.82 | 0.8090863 | 391.51 | 2020-08-08 00:00:00 |\n",
       "| 2020-08-08 | ETH | 379.30 | 382.73 | 379.30 | 381.41 | 10261928 | 394.62 | 393.98 | 397.05 | 388.40 | 345.22 | 282.86 | 244.57 | 190.39 | 168.81 | 0.9042974 | 395.62 | 2020-08-08 01:00:00 |\n",
       "| 2020-08-08 | ETH | 381.41 | 382.43 | 378.01 | 380.54 |  6409933 | 381.41 | 384.91 | 396.27 | 387.80 | 346.65 | 283.20 | 244.57 | 187.79 | 168.25 | 1.1692812 | 395.20 | 2020-08-08 02:00:00 |\n",
       "| 2020-08-08 | ETH | 380.54 | 380.59 | 376.86 | 378.01 |  6373335 | 380.54 | 385.49 | 395.43 | 389.39 | 352.26 | 282.89 | 244.68 | 185.93 | 163.37 | 0.9897575 | 394.87 | 2020-08-08 03:00:00 |\n",
       "| 2020-08-08 | ETH | 378.01 | 379.50 | 377.13 | 377.19 |  6827757 | 378.01 | 379.11 | 395.74 | 388.52 | 353.82 | 283.47 | 244.93 | 186.23 | 163.28 | 0.6284305 | 393.91 | 2020-08-08 04:00:00 |\n",
       "| 2020-08-08 | ETH | 377.19 | 381.09 | 377.14 | 380.43 |  5202294 | 377.19 | 373.56 | 394.50 | 391.40 | 355.59 | 284.45 | 245.20 | 187.53 | 160.85 | 1.0473564 | 392.53 | 2020-08-08 05:00:00 |\n",
       "| 2020-08-08 | ETH | 380.43 | 381.00 | 379.72 | 380.32 |  4825279 | 380.43 | 373.20 | 394.87 | 390.36 | 356.02 | 284.39 | 247.44 | 187.42 | 160.59 | 0.3370905 | 392.78 | 2020-08-08 06:00:00 |\n",
       "| 2020-08-08 | ETH | 380.32 | 381.56 | 379.78 | 379.97 |  5186699 | 380.32 | 374.36 | 394.13 | 390.04 | 354.99 | 283.01 | 246.71 | 190.73 | 158.05 | 0.4686924 | 395.34 | 2020-08-08 07:00:00 |\n",
       "| 2020-08-08 | ETH | 379.97 | 380.56 | 377.95 | 378.82 |  7314853 | 379.97 | 377.43 | 395.54 | 390.35 | 356.71 | 283.77 | 246.20 | 191.11 | 157.92 | 0.6905675 | 394.32 | 2020-08-08 08:00:00 |\n",
       "| 2020-08-08 | ETH | 378.82 | 386.17 | 378.82 | 385.86 | 14437279 | 378.82 | 379.29 | 395.90 | 393.17 | 359.21 | 283.06 | 246.05 | 190.35 | 158.26 | 1.9402355 | 389.35 | 2020-08-08 09:00:00 |\n",
       "| 2020-08-08 | ETH | 385.86 | 388.62 | 384.16 | 387.25 | 12822461 | 385.86 | 380.22 | 394.74 | 392.54 | 354.92 | 282.61 | 244.82 | 190.90 | 158.90 | 1.1609746 | 391.17 | 2020-08-08 10:00:00 |\n",
       "| 2020-08-08 | ETH | 387.25 | 392.23 | 387.25 | 391.61 | 17277648 | 387.25 | 379.34 | 394.13 | 397.35 | 356.13 | 282.60 | 246.53 | 189.76 | 157.84 | 1.2859910 | 391.89 | 2020-08-08 11:00:00 |\n",
       "| 2020-08-08 | ETH | 379.34 | 380.48 | 375.79 | 379.30 |  9435398 | 391.61 | 394.62 | 395.03 | 388.47 | 344.01 | 280.56 | 245.68 | 192.38 | 169.97 | 1.2480375 | 397.89 | 2020-08-08 12:00:00 |\n",
       "| 2020-08-08 | ETH | 391.51 | 392.13 | 388.95 | 390.19 | 10682952 | 379.30 | 381.41 | 393.98 | 398.98 | 353.52 | 284.01 | 245.63 | 190.35 | 157.97 | 0.8175858 | 387.57 | 2020-08-08 13:00:00 |\n",
       "| 2020-08-08 | ETH | 390.19 | 390.99 | 387.56 | 389.83 | 10094839 | 390.19 | 380.54 | 384.91 | 394.34 | 356.15 | 284.05 | 242.28 | 187.45 | 157.17 | 0.8850243 | 385.51 | 2020-08-08 14:00:00 |\n",
       "| 2020-08-08 | ETH | 389.83 | 392.48 | 389.77 | 390.46 | 12721002 | 389.83 | 378.01 | 385.49 | 395.30 | 357.89 | 286.08 | 239.87 | 188.34 | 153.06 | 0.6952818 | 386.66 | 2020-08-08 15:00:00 |\n",
       "| 2020-08-08 | ETH | 390.46 | 391.30 | 385.79 | 390.04 | 20004944 | 390.46 | 377.19 | 379.11 | 396.18 | 362.09 | 288.93 | 240.35 | 180.68 | 156.46 | 1.4282382 | 387.84 | 2020-08-08 16:00:00 |\n",
       "| 2020-08-08 | ETH | 390.04 | 392.55 | 386.80 | 391.57 | 11862305 | 390.04 | 380.43 | 373.56 | 397.26 | 373.25 | 296.67 | 240.20 | 184.65 | 157.38 | 1.4865564 | 385.08 | 2020-08-08 17:00:00 |\n",
       "| 2020-08-08 | ETH | 391.57 | 391.57 | 388.90 | 390.87 |  7424777 | 391.57 | 380.32 | 373.20 | 397.43 | 371.20 | 295.84 | 240.46 | 184.24 | 157.65 | 0.6865518 | 390.00 | 2020-08-08 18:00:00 |\n",
       "| 2020-08-08 | ETH | 390.87 | 391.52 | 387.00 | 389.26 |  9179260 | 390.87 | 379.97 | 374.36 | 398.56 | 383.30 | 296.51 | 239.98 | 185.22 | 158.12 | 1.1679587 | 389.48 | 2020-08-08 19:00:00 |\n",
       "| 2020-08-08 | ETH | 389.26 | 389.39 | 386.52 | 388.06 |  6656987 | 389.26 | 378.82 | 377.43 | 400.09 | 386.00 | 305.71 | 241.24 | 187.78 | 158.90 | 0.7425230 | 392.86 | 2020-08-08 20:00:00 |\n",
       "| 2020-08-08 | ETH | 388.06 | 391.23 | 387.88 | 391.20 |  7511644 | 388.06 | 385.86 | 379.29 | 405.30 | 384.34 | 303.46 | 241.78 | 189.03 | 158.53 | 0.8636692 | 389.17 | 2020-08-08 21:00:00 |\n",
       "| 2020-08-08 | ETH | 391.20 | 392.00 | 389.34 | 390.74 |  5824672 | 391.20 | 387.25 | 380.22 | 396.72 | 387.33 | 306.39 | 241.67 | 188.38 | 157.88 | 0.6832075 | 388.81 | 2020-08-08 22:00:00 |\n",
       "| 2020-08-08 | ETH | 390.74 | 397.05 | 388.51 | 397.03 | 16771612 | 390.74 | 391.61 | 379.34 | 400.72 | 387.00 | 305.26 | 241.98 | 187.54 | 157.81 | 2.1981416 | 390.14 | 2020-08-08 23:00:00 |\n",
       "| 2020-08-08 | ETH | 391.61 | 393.22 | 389.66 | 391.51 | 15889338 | 397.03 | 379.30 | 394.62 | 398.94 | 356.97 | 285.15 | 247.28 | 189.44 | 158.54 | 0.9136170 | 389.19 | 2020-08-09 00:00:00 |\n",
       "\n"
      ],
      "text/plain": [
       "      Date       Symbol Open   High   Low    Close  VolumeUSDT CloseLag1Hour\n",
       "1     2017-12-31 ETH    701.91 710.00 697.59 701.02 2101864.3  670.15       \n",
       "2     2017-12-31 ETH    701.02 714.15 698.00 711.06 2051671.5  701.02       \n",
       "3     2017-12-31 ETH    711.08 712.18 683.68 697.98 1900145.0  711.06       \n",
       "4     2017-12-31 ETH    697.98 699.72 680.00 698.64 1995594.9  697.98       \n",
       "5     2017-12-31 ETH    698.64 705.99 688.20 690.60 1631923.4  698.64       \n",
       "6     2017-12-31 ETH    690.60 698.81 683.52 688.33 1911141.1  690.60       \n",
       "7     2017-12-31 ETH    688.33 699.50 685.31 697.00 1300044.7  688.33       \n",
       "8     2017-12-31 ETH    697.00 699.99 688.55 688.80 1678652.6  697.00       \n",
       "9     2017-12-31 ETH    688.80 694.19 682.16 688.32 1310711.6  688.80       \n",
       "10    2017-12-31 ETH    688.32 705.00 686.01 703.52 1635646.4  688.32       \n",
       "11    2017-12-31 ETH    703.52 712.50 701.78 709.89 1628999.3  703.52       \n",
       "12    2017-12-31 ETH    681.06 704.97 672.86 701.91 2788607.4  709.89       \n",
       "13    2017-12-31 ETH    713.99 725.00 709.98 719.01 1906377.1  701.91       \n",
       "14    2017-12-31 ETH    719.01 730.03 717.01 727.45 2367772.3  719.01       \n",
       "15    2017-12-31 ETH    727.45 727.46 711.10 720.03 2225450.9  727.45       \n",
       "16    2017-12-31 ETH    720.03 739.80 720.03 728.48 3658469.0  720.03       \n",
       "17    2017-12-31 ETH    728.48 738.99 723.92 733.01 1802514.4  728.48       \n",
       "18    2017-12-31 ETH    733.01 736.41 728.20 730.00 1677471.7  733.01       \n",
       "19    2017-12-31 ETH    730.00 734.96 724.43 731.76 1381917.9  730.00       \n",
       "20    2017-12-31 ETH    731.76 740.00 731.75 738.00 1382637.2  731.76       \n",
       "21    2017-12-31 ETH    738.00 739.66 733.51 736.67  762954.7  738.00       \n",
       "22    2017-12-31 ETH    736.67 740.00 734.77 735.60  944651.9  736.67       \n",
       "23    2017-12-31 ETH    735.60 736.73 726.73 733.98  835702.0  735.60       \n",
       "24    2017-12-31 ETH    709.89 723.83 706.87 713.99 2532590.8  733.98       \n",
       "25    2018-01-01 ETH    727.62 732.00 716.80 717.97 1644245.5  713.99       \n",
       "26    2018-01-01 ETH    717.97 725.75 717.59 724.05 1543469.1  717.97       \n",
       "27    2018-01-01 ETH    724.05 737.99 722.70 734.50 1541143.1  724.05       \n",
       "28    2018-01-01 ETH    734.50 744.98 730.01 744.82 1688976.6  734.50       \n",
       "29    2018-01-01 ETH    744.82 750.00 742.08 748.99 1647134.8  744.82       \n",
       "30    2018-01-01 ETH    748.99 762.18 746.21 762.18 1828394.9  748.99       \n",
       "...   ...        ...    ...    ...    ...    ...    ...        ...          \n",
       "22818 2020-08-07 ETH    373.20 376.81 372.33 374.36 18253778   373.20       \n",
       "22819 2020-08-07 ETH    374.36 380.00 373.06 377.43 15750245   374.36       \n",
       "22820 2020-08-07 ETH    377.43 379.76 376.22 379.29  7896484   377.43       \n",
       "22821 2020-08-07 ETH    379.29 383.23 378.07 380.22 10713720   379.29       \n",
       "22822 2020-08-07 ETH    380.22 382.84 378.50 379.34  6753829   380.22       \n",
       "22823 2020-08-07 ETH    394.13 394.97 391.80 394.62 13200180   379.34       \n",
       "22824 2020-08-08 ETH    379.30 382.73 379.30 381.41 10261928   394.62       \n",
       "22825 2020-08-08 ETH    381.41 382.43 378.01 380.54  6409933   381.41       \n",
       "22826 2020-08-08 ETH    380.54 380.59 376.86 378.01  6373335   380.54       \n",
       "22827 2020-08-08 ETH    378.01 379.50 377.13 377.19  6827757   378.01       \n",
       "22828 2020-08-08 ETH    377.19 381.09 377.14 380.43  5202294   377.19       \n",
       "22829 2020-08-08 ETH    380.43 381.00 379.72 380.32  4825279   380.43       \n",
       "22830 2020-08-08 ETH    380.32 381.56 379.78 379.97  5186699   380.32       \n",
       "22831 2020-08-08 ETH    379.97 380.56 377.95 378.82  7314853   379.97       \n",
       "22832 2020-08-08 ETH    378.82 386.17 378.82 385.86 14437279   378.82       \n",
       "22833 2020-08-08 ETH    385.86 388.62 384.16 387.25 12822461   385.86       \n",
       "22834 2020-08-08 ETH    387.25 392.23 387.25 391.61 17277648   387.25       \n",
       "22835 2020-08-08 ETH    379.34 380.48 375.79 379.30  9435398   391.61       \n",
       "22836 2020-08-08 ETH    391.51 392.13 388.95 390.19 10682952   379.30       \n",
       "22837 2020-08-08 ETH    390.19 390.99 387.56 389.83 10094839   390.19       \n",
       "22838 2020-08-08 ETH    389.83 392.48 389.77 390.46 12721002   389.83       \n",
       "22839 2020-08-08 ETH    390.46 391.30 385.79 390.04 20004944   390.46       \n",
       "22840 2020-08-08 ETH    390.04 392.55 386.80 391.57 11862305   390.04       \n",
       "22841 2020-08-08 ETH    391.57 391.57 388.90 390.87  7424777   391.57       \n",
       "22842 2020-08-08 ETH    390.87 391.52 387.00 389.26  9179260   390.87       \n",
       "22843 2020-08-08 ETH    389.26 389.39 386.52 388.06  6656987   389.26       \n",
       "22844 2020-08-08 ETH    388.06 391.23 387.88 391.20  7511644   388.06       \n",
       "22845 2020-08-08 ETH    391.20 392.00 389.34 390.74  5824672   391.20       \n",
       "22846 2020-08-08 ETH    390.74 397.05 388.51 397.03 16771612   390.74       \n",
       "22847 2020-08-08 ETH    391.61 393.22 389.66 391.51 15889338   397.03       \n",
       "      CloseLag12Hour CloseLag24Hour CloseLag3Day CloseLag7Day CloseLag14Day\n",
       "1     676.38         710.01         738.50       625.00       702.20       \n",
       "2     677.82         690.00         670.00       583.00       705.55       \n",
       "3     673.27         691.10         695.94       636.88       711.06       \n",
       "4     655.96         671.15         697.85       634.20       711.00       \n",
       "5     685.01         695.65         674.06       649.78       712.00       \n",
       "6     691.45         693.21         680.00       658.35       712.00       \n",
       "7     700.98         707.01         687.52       639.01       712.99       \n",
       "8     694.59         698.91         691.00       655.11       708.81       \n",
       "9     699.08         699.01         683.70       623.96       711.00       \n",
       "10    697.50         689.00         654.00       614.90       712.99       \n",
       "11    681.06         698.19         668.79       591.10       712.12       \n",
       "12    670.15         729.67         732.60       634.74       699.77       \n",
       "13    701.02         676.38         688.61       617.21       706.69       \n",
       "14    711.06         677.82         700.32       627.39       703.29       \n",
       "15    697.98         673.27         701.00       609.00       704.53       \n",
       "16    698.64         655.96         686.00       617.63       698.01       \n",
       "17    690.60         685.01         698.00       610.30       705.00       \n",
       "18    688.33         691.45         672.15       600.88       718.00       \n",
       "19    697.00         700.98         688.20       597.70       711.49       \n",
       "20    688.80         694.59         690.94       621.00       716.63       \n",
       "21    688.32         699.08         693.14       618.02       725.30       \n",
       "22    703.52         697.50         696.99       635.20       713.00       \n",
       "23    709.89         681.06         707.89       658.00       707.64       \n",
       "24    701.91         670.15         683.00       590.00       701.20       \n",
       "25    719.01         701.02         712.07       686.00       682.00       \n",
       "26    727.45         711.06         732.47       673.63       690.00       \n",
       "27    720.03         697.98         735.11       679.00       706.77       \n",
       "28    728.48         698.64         733.70       693.62       703.39       \n",
       "29    733.01         690.60         740.05       693.04       707.83       \n",
       "30    730.00         688.33         744.00       698.01       709.60       \n",
       "...   ...            ...            ...          ...          ...          \n",
       "22818 394.13         396.73         386.61       343.71       283.11       \n",
       "22819 395.54         396.31         387.91       344.94       285.73       \n",
       "22820 395.90         395.23         391.41       347.24       284.79       \n",
       "22821 394.74         394.44         392.88       343.71       280.51       \n",
       "22822 394.13         394.77         389.61       346.33       279.15       \n",
       "22823 395.03         396.72         388.13       345.29       274.48       \n",
       "22824 393.98         397.05         388.40       345.22       282.86       \n",
       "22825 384.91         396.27         387.80       346.65       283.20       \n",
       "22826 385.49         395.43         389.39       352.26       282.89       \n",
       "22827 379.11         395.74         388.52       353.82       283.47       \n",
       "22828 373.56         394.50         391.40       355.59       284.45       \n",
       "22829 373.20         394.87         390.36       356.02       284.39       \n",
       "22830 374.36         394.13         390.04       354.99       283.01       \n",
       "22831 377.43         395.54         390.35       356.71       283.77       \n",
       "22832 379.29         395.90         393.17       359.21       283.06       \n",
       "22833 380.22         394.74         392.54       354.92       282.61       \n",
       "22834 379.34         394.13         397.35       356.13       282.60       \n",
       "22835 394.62         395.03         388.47       344.01       280.56       \n",
       "22836 381.41         393.98         398.98       353.52       284.01       \n",
       "22837 380.54         384.91         394.34       356.15       284.05       \n",
       "22838 378.01         385.49         395.30       357.89       286.08       \n",
       "22839 377.19         379.11         396.18       362.09       288.93       \n",
       "22840 380.43         373.56         397.26       373.25       296.67       \n",
       "22841 380.32         373.20         397.43       371.20       295.84       \n",
       "22842 379.97         374.36         398.56       383.30       296.51       \n",
       "22843 378.82         377.43         400.09       386.00       305.71       \n",
       "22844 385.86         379.29         405.30       384.34       303.46       \n",
       "22845 387.25         380.22         396.72       387.33       306.39       \n",
       "22846 391.61         379.34         400.72       387.00       305.26       \n",
       "22847 379.30         394.62         398.94       356.97       285.15       \n",
       "      CloseLag30Day CloseLag90Day CloseLag120Day Volatility Target24HourClose\n",
       "1     421.72        302.88        384.47         1.7789819  717.97           \n",
       "2     426.12        300.90        382.68         2.3137536  724.05           \n",
       "3     426.01        301.46        378.52         4.1686169  734.50           \n",
       "4     430.90        301.87        375.75         2.9000000  744.82           \n",
       "5     422.09        303.55        347.61         2.5850044  748.99           \n",
       "6     417.98        302.51        367.60         2.2369499  762.18           \n",
       "7     418.80        302.38        363.70         2.0705958  751.99           \n",
       "8     427.02        301.29        355.42         1.6614625  745.00           \n",
       "9     432.02        302.18        351.60         1.7635159  753.21           \n",
       "10    428.48        302.87        356.58         2.7681812  757.10           \n",
       "11    433.00        300.41        357.00         1.5275442  741.01           \n",
       "12    421.42        301.68        394.32         4.7721666  727.62           \n",
       "13    456.32        299.01        353.09         2.1155526  738.93           \n",
       "14    443.97        299.00        335.32         1.8158743  742.74           \n",
       "15    446.66        300.80        341.72         2.3006609  748.80           \n",
       "16    449.99        298.13        336.97         2.7457189  739.08           \n",
       "17    447.68        295.46        341.63         2.0817217  737.02           \n",
       "18    452.03        295.20        339.29         1.1274375  742.98           \n",
       "19    454.58        296.87        336.18         1.4535566  746.23           \n",
       "20    461.13        298.80        325.63         1.1274342  757.42           \n",
       "21    463.01        298.66        324.00         0.8384344  759.28           \n",
       "22    456.40        296.21        329.72         0.7117874  754.58           \n",
       "23    457.51        296.50        343.14         1.3760269  754.99           \n",
       "24    442.43        297.50        351.92         2.3993096  745.00           \n",
       "25    467.37        297.23        347.26         2.1205357  848.71           \n",
       "26    465.00        298.00        347.48         1.1371396  857.94           \n",
       "27    460.80        300.99        348.85         2.1156773  826.92           \n",
       "28    455.01        298.11        355.21         2.0506568  833.99           \n",
       "29    459.01        294.32        363.55         1.0672704  842.23           \n",
       "30    463.04        292.62        356.01         2.1401482  847.72           \n",
       "...   ...           ...           ...            ...        ...              \n",
       "22818 248.56        212.37        169.17         1.2032337  389.26           \n",
       "22819 246.31        211.95        170.34         1.8602906  388.06           \n",
       "22820 247.54        210.80        170.70         0.9409388  391.20           \n",
       "22821 247.29        210.96        170.75         1.3648266  390.74           \n",
       "22822 246.95        210.07        169.52         1.1466314  397.03           \n",
       "22823 242.06        210.61        170.82         0.8090863  391.51           \n",
       "22824 244.57        190.39        168.81         0.9042974  395.62           \n",
       "22825 244.57        187.79        168.25         1.1692812  395.20           \n",
       "22826 244.68        185.93        163.37         0.9897575  394.87           \n",
       "22827 244.93        186.23        163.28         0.6284305  393.91           \n",
       "22828 245.20        187.53        160.85         1.0473564  392.53           \n",
       "22829 247.44        187.42        160.59         0.3370905  392.78           \n",
       "22830 246.71        190.73        158.05         0.4686924  395.34           \n",
       "22831 246.20        191.11        157.92         0.6905675  394.32           \n",
       "22832 246.05        190.35        158.26         1.9402355  389.35           \n",
       "22833 244.82        190.90        158.90         1.1609746  391.17           \n",
       "22834 246.53        189.76        157.84         1.2859910  391.89           \n",
       "22835 245.68        192.38        169.97         1.2480375  397.89           \n",
       "22836 245.63        190.35        157.97         0.8175858  387.57           \n",
       "22837 242.28        187.45        157.17         0.8850243  385.51           \n",
       "22838 239.87        188.34        153.06         0.6952818  386.66           \n",
       "22839 240.35        180.68        156.46         1.4282382  387.84           \n",
       "22840 240.20        184.65        157.38         1.4865564  385.08           \n",
       "22841 240.46        184.24        157.65         0.6865518  390.00           \n",
       "22842 239.98        185.22        158.12         1.1679587  389.48           \n",
       "22843 241.24        187.78        158.90         0.7425230  392.86           \n",
       "22844 241.78        189.03        158.53         0.8636692  389.17           \n",
       "22845 241.67        188.38        157.88         0.6832075  388.81           \n",
       "22846 241.98        187.54        157.81         2.1981416  390.14           \n",
       "22847 247.28        189.44        158.54         0.9136170  389.19           \n",
       "      DateTime           \n",
       "1     2017-12-31 01:00:00\n",
       "2     2017-12-31 02:00:00\n",
       "3     2017-12-31 03:00:00\n",
       "4     2017-12-31 04:00:00\n",
       "5     2017-12-31 05:00:00\n",
       "6     2017-12-31 06:00:00\n",
       "7     2017-12-31 07:00:00\n",
       "8     2017-12-31 08:00:00\n",
       "9     2017-12-31 09:00:00\n",
       "10    2017-12-31 10:00:00\n",
       "11    2017-12-31 11:00:00\n",
       "12    2017-12-31 12:00:00\n",
       "13    2017-12-31 13:00:00\n",
       "14    2017-12-31 14:00:00\n",
       "15    2017-12-31 15:00:00\n",
       "16    2017-12-31 16:00:00\n",
       "17    2017-12-31 17:00:00\n",
       "18    2017-12-31 18:00:00\n",
       "19    2017-12-31 19:00:00\n",
       "20    2017-12-31 20:00:00\n",
       "21    2017-12-31 21:00:00\n",
       "22    2017-12-31 22:00:00\n",
       "23    2017-12-31 23:00:00\n",
       "24    2018-01-01 00:00:00\n",
       "25    2018-01-01 01:00:00\n",
       "26    2018-01-01 02:00:00\n",
       "27    2018-01-01 03:00:00\n",
       "28    2018-01-01 04:00:00\n",
       "29    2018-01-01 05:00:00\n",
       "30    2018-01-01 06:00:00\n",
       "...   ...                \n",
       "22818 2020-08-07 19:00:00\n",
       "22819 2020-08-07 20:00:00\n",
       "22820 2020-08-07 21:00:00\n",
       "22821 2020-08-07 22:00:00\n",
       "22822 2020-08-07 23:00:00\n",
       "22823 2020-08-08 00:00:00\n",
       "22824 2020-08-08 01:00:00\n",
       "22825 2020-08-08 02:00:00\n",
       "22826 2020-08-08 03:00:00\n",
       "22827 2020-08-08 04:00:00\n",
       "22828 2020-08-08 05:00:00\n",
       "22829 2020-08-08 06:00:00\n",
       "22830 2020-08-08 07:00:00\n",
       "22831 2020-08-08 08:00:00\n",
       "22832 2020-08-08 09:00:00\n",
       "22833 2020-08-08 10:00:00\n",
       "22834 2020-08-08 11:00:00\n",
       "22835 2020-08-08 12:00:00\n",
       "22836 2020-08-08 13:00:00\n",
       "22837 2020-08-08 14:00:00\n",
       "22838 2020-08-08 15:00:00\n",
       "22839 2020-08-08 16:00:00\n",
       "22840 2020-08-08 17:00:00\n",
       "22841 2020-08-08 18:00:00\n",
       "22842 2020-08-08 19:00:00\n",
       "22843 2020-08-08 20:00:00\n",
       "22844 2020-08-08 21:00:00\n",
       "22845 2020-08-08 22:00:00\n",
       "22846 2020-08-08 23:00:00\n",
       "22847 2020-08-09 00:00:00"
      ]
     },
     "metadata": {},
     "output_type": "display_data"
    }
   ],
   "source": [
    "cryptodata"
   ]
  },
  {
   "cell_type": "markdown",
   "metadata": {},
   "source": [
    "## Clean Data "
   ]
  },
  {
   "cell_type": "code",
   "execution_count": 7,
   "metadata": {},
   "outputs": [],
   "source": [
    "cryptodata <- mutate(cryptodata, Volatility = ((High - Low)/Low)*100)"
   ]
  },
  {
   "cell_type": "markdown",
   "metadata": {},
   "source": [
    "##### We can look at the new column `Volatility`"
   ]
  },
  {
   "cell_type": "code",
   "execution_count": 8,
   "metadata": {},
   "outputs": [
    {
     "data": {
      "text/html": [
       "<style>\n",
       ".list-inline {list-style: none; margin:0; padding: 0}\n",
       ".list-inline>li {display: inline-block}\n",
       ".list-inline>li:not(:last-child)::after {content: \"\\00b7\"; padding: 0 .5ex}\n",
       "</style>\n",
       "<ol class=list-inline><li>1.7789819234794</li><li>2.31375358166189</li><li>4.16861689679382</li><li>2.9</li><li>2.5850043591979</li><li>2.23694990636704</li></ol>\n"
      ],
      "text/latex": [
       "\\begin{enumerate*}\n",
       "\\item 1.7789819234794\n",
       "\\item 2.31375358166189\n",
       "\\item 4.16861689679382\n",
       "\\item 2.9\n",
       "\\item 2.5850043591979\n",
       "\\item 2.23694990636704\n",
       "\\end{enumerate*}\n"
      ],
      "text/markdown": [
       "1. 1.7789819234794\n",
       "2. 2.31375358166189\n",
       "3. 4.16861689679382\n",
       "4. 2.9\n",
       "5. 2.5850043591979\n",
       "6. 2.23694990636704\n",
       "\n",
       "\n"
      ],
      "text/plain": [
       "[1] 1.778982 2.313754 4.168617 2.900000 2.585004 2.236950"
      ]
     },
     "metadata": {},
     "output_type": "display_data"
    }
   ],
   "source": [
    "head(cryptodata$Volatility)"
   ]
  },
  {
   "cell_type": "markdown",
   "metadata": {},
   "source": [
    "#### Remove Symbol column:"
   ]
  },
  {
   "cell_type": "code",
   "execution_count": 9,
   "metadata": {},
   "outputs": [],
   "source": [
    "cryptodata <- select(cryptodata, -Symbol)"
   ]
  },
  {
   "cell_type": "markdown",
   "metadata": {},
   "source": [
    "# TEMP TEST, REMOVE:"
   ]
  },
  {
   "cell_type": "code",
   "execution_count": 10,
   "metadata": {},
   "outputs": [],
   "source": [
    "# Calculate % Change\n",
    "cryptodata <- mutate(cryptodata, Target24HourPercChange = ((Target24HourClose - Close)/Close)*100)\n",
    "# Remove other target\n",
    "cryptodata  <- select(cryptodata, -Target24HourClose)"
   ]
  },
  {
   "cell_type": "markdown",
   "metadata": {},
   "source": [
    "#### Train/Test Split "
   ]
  },
  {
   "cell_type": "code",
   "execution_count": 11,
   "metadata": {},
   "outputs": [],
   "source": [
    "cryptodata_train <- head(cryptodata, as.integer(nrow(cryptodata)*.8))"
   ]
  },
  {
   "cell_type": "code",
   "execution_count": 12,
   "metadata": {},
   "outputs": [],
   "source": [
    "cryptodata_test <- tail(cryptodata, as.integer(nrow(cryptodata)*.2))"
   ]
  },
  {
   "cell_type": "markdown",
   "metadata": {},
   "source": [
    "## Visualization"
   ]
  },
  {
   "cell_type": "code",
   "execution_count": 13,
   "metadata": {},
   "outputs": [
    {
     "data": {
      "image/png": "[encoded data removed]",
      "text/plain": [
       "plot without title"
      ]
     },
     "metadata": {},
     "output_type": "display_data"
    }
   ],
   "source": [
    "ggplot(data = cryptodata, aes(x = DateTime, y = Close))"
   ]
  },
  {
   "cell_type": "code",
   "execution_count": 14,
   "metadata": {},
   "outputs": [
    {
     "data": {
      "image/png": "[encoded data removed]",
      "text/plain": [
       "plot without title"
      ]
     },
     "metadata": {},
     "output_type": "display_data"
    }
   ],
   "source": [
    "price_chart <- ggplot(data = cryptodata, aes(x = DateTime, y = Close)) +\n",
    "  geom_line()\n",
    "# Show chart\n",
    "price_chart"
   ]
  },
  {
   "cell_type": "markdown",
   "metadata": {},
   "source": [
    "## Predictive Models"
   ]
  },
  {
   "cell_type": "markdown",
   "metadata": {},
   "source": [
    "##### Simple linear regression: "
   ]
  },
  {
   "cell_type": "code",
   "execution_count": 15,
   "metadata": {},
   "outputs": [
    {
     "data": {
      "text/plain": [
       "\n",
       "Call:\n",
       "lm(formula = \"Target24HourPercChange ~ .\", data = cryptodata_train)\n",
       "\n",
       "Coefficients:\n",
       "   (Intercept)            Date            Open            High             Low  \n",
       "     1.838e+01       1.002e-01      -5.486e-02       2.520e-02      -1.612e-02  \n",
       "         Close      VolumeUSDT   CloseLag1Hour  CloseLag12Hour  CloseLag24Hour  \n",
       "    -1.414e-02      -1.141e-07       6.928e-02      -2.341e-02       1.688e-02  \n",
       "  CloseLag3Day    CloseLag7Day   CloseLag14Day   CloseLag30Day   CloseLag90Day  \n",
       "    -1.709e-03      -5.189e-03       3.250e-03      -1.594e-03       9.596e-04  \n",
       "CloseLag120Day      Volatility        DateTime  \n",
       "    -1.262e-03       3.630e-01      -1.171e-06  \n"
      ]
     },
     "metadata": {},
     "output_type": "display_data"
    }
   ],
   "source": [
    "lm(data = cryptodata_train, formula = \"Target24HourPercChange ~ .\")"
   ]
  },
  {
   "cell_type": "markdown",
   "metadata": {},
   "source": [
    "##### Making a linear regression model using the `caret` package:"
   ]
  },
  {
   "cell_type": "code",
   "execution_count": 16,
   "metadata": {},
   "outputs": [],
   "source": [
    "lm_fit <- train(Target24HourPercChange ~ .,\n",
    "                    data = cryptodata_train,\n",
    "                    method = \"lm\")"
   ]
  },
  {
   "cell_type": "code",
   "execution_count": 17,
   "metadata": {},
   "outputs": [
    {
     "data": {
      "text/plain": [
       "Linear Regression \n",
       "\n",
       "18277 samples\n",
       "   17 predictor\n",
       "\n",
       "No pre-processing\n",
       "Resampling: Bootstrapped (25 reps) \n",
       "Summary of sample sizes: 18277, 18277, 18277, 18277, 18277, 18277, ... \n",
       "Resampling results:\n",
       "\n",
       "  RMSE      Rsquared    MAE     \n",
       "  5.071367  0.02282516  3.504824\n",
       "\n",
       "Tuning parameter 'intercept' was held constant at a value of TRUE"
      ]
     },
     "metadata": {},
     "output_type": "display_data"
    }
   ],
   "source": [
    "lm_fit"
   ]
  },
  {
   "cell_type": "markdown",
   "metadata": {},
   "source": [
    "##### XGBoost model:"
   ]
  },
  {
   "cell_type": "code",
   "execution_count": 18,
   "metadata": {},
   "outputs": [],
   "source": [
    "xgb_fit <- train(Target24HourPercChange ~ . ,\n",
    "                    data = cryptodata_train,\n",
    "                    method = \"xgbLinear\")"
   ]
  },
  {
   "cell_type": "markdown",
   "metadata": {},
   "source": [
    "##### Additional options in `caret::train()`:"
   ]
  },
  {
   "cell_type": "code",
   "execution_count": 19,
   "metadata": {},
   "outputs": [],
   "source": [
    "svm_fit <- train(Target24HourPercChange ~ . ,\n",
    "                    data = cryptodata_train,\n",
    "                    method = \"svmPoly\",\n",
    "                    preProc = c(\"center\", \"scale\"))"
   ]
  },
  {
   "cell_type": "code",
   "execution_count": 20,
   "metadata": {},
   "outputs": [
    {
     "data": {
      "text/plain": [
       "Support Vector Machines with Polynomial Kernel \n",
       "\n",
       "18277 samples\n",
       "   17 predictor\n",
       "\n",
       "Pre-processing: centered (17), scaled (17) \n",
       "Resampling: Bootstrapped (25 reps) \n",
       "Summary of sample sizes: 18277, 18277, 18277, 18277, 18277, 18277, ... \n",
       "Resampling results across tuning parameters:\n",
       "\n",
       "  degree  scale  C     RMSE      Rsquared     MAE     \n",
       "  1       0.001  0.25  5.110863  0.008186027  3.523987\n",
       "  1       0.001  0.50  5.108422  0.008444220  3.522362\n",
       "  1       0.001  1.00  5.105955  0.008942953  3.520448\n",
       "  1       0.010  0.25  5.103153  0.009624932  3.517151\n",
       "  1       0.010  0.50  5.100750  0.010419761  3.513630\n",
       "  1       0.010  1.00  5.098433  0.011273983  3.509514\n",
       "  1       0.100  0.25  5.093651  0.013193363  3.503623\n",
       "  1       0.100  0.50  5.088325  0.015262381  3.498915\n",
       "  1       0.100  1.00  5.081995  0.017706236  3.494239\n",
       "  2       0.001  0.25  5.103933  0.011362224  3.519412\n",
       "  2       0.001  0.50  5.097993  0.013592340  3.515190\n",
       "  2       0.001  1.00  5.090166  0.016839522  3.509130\n",
       "  2       0.010  0.25  5.014135  0.050632660  3.457290\n",
       "  2       0.010  0.50  4.985976  0.060039378  3.437161\n",
       "  2       0.010  1.00  4.956578  0.070065636  3.416705\n",
       "  2       0.100  0.25  4.873131  0.097370351  3.362494\n",
       "  2       0.100  0.50  4.860982  0.101831335  3.352110\n",
       "  2       0.100  1.00  4.848982  0.106221436  3.342099\n",
       "  3       0.001  0.25  5.095444  0.015709891  3.513708\n",
       "  3       0.001  0.50  5.085694  0.019887088  3.506767\n",
       "  3       0.001  1.00  5.071947  0.025790560  3.496544\n",
       "  3       0.010  0.25  4.950573  0.072440524  3.419763\n",
       "  3       0.010  0.50  4.920880  0.082028367  3.398641\n",
       "  3       0.010  1.00  4.888627  0.093263089  3.376787\n",
       "  3       0.100  0.25  4.636405  0.182948617  3.218702\n",
       "  3       0.100  0.50  4.613209  0.191828048  3.190681\n",
       "  3       0.100  1.00  4.593930  0.199997483  3.163555\n",
       "\n",
       "RMSE was used to select the optimal model using the smallest value.\n",
       "The final values used for the model were degree = 3, scale = 0.1 and C = 1."
      ]
     },
     "metadata": {},
     "output_type": "display_data"
    }
   ],
   "source": [
    "svm_fit"
   ]
  },
  {
   "cell_type": "markdown",
   "metadata": {},
   "source": [
    "#### Time-Aware Cross Validation"
   ]
  },
  {
   "cell_type": "code",
   "execution_count": 21,
   "metadata": {},
   "outputs": [],
   "source": [
    "train_control <- trainControl(method = \"timeslice\",\n",
    "                              initialWindow = 31,\n",
    "                              horizon = 1,\n",
    "                              fixedWindow = TRUE,\n",
    "                              number = 5)\n",
    "                              #,search = 'grid')"
   ]
  },
  {
   "cell_type": "markdown",
   "metadata": {},
   "source": [
    "##### Linear Model with cross validation:"
   ]
  },
  {
   "cell_type": "code",
   "execution_count": 22,
   "metadata": {},
   "outputs": [
    {
     "name": "stderr",
     "output_type": "stream",
     "text": [
      "Warning message in predict.lm(modelFit, newdata):\n",
      "\"prediction from a rank-deficient fit may be misleading\"Warning message in predict.lm(modelFit, newdata):\n",
      "\"prediction from a rank-deficient fit may be misleading\"Warning message in predict.lm(modelFit, newdata):\n",
      "\"prediction from a rank-deficient fit may be misleading\"Warning message in predict.lm(modelFit, newdata):\n",
      "\"prediction from a rank-deficient fit may be misleading\"Warning message in predict.lm(modelFit, newdata):\n",
      "\"prediction from a rank-deficient fit may be misleading\"Warning message in predict.lm(modelFit, newdata):\n",
      "\"prediction from a rank-deficient fit may be misleading\"Warning message in predict.lm(modelFit, newdata):\n",
      "\"prediction from a rank-deficient fit may be misleading\"Warning message in predict.lm(modelFit, newdata):\n",
      "\"prediction from a rank-deficient fit may be misleading\"Warning message in predict.lm(modelFit, newdata):\n",
      "\"prediction from a rank-deficient fit may be misleading\"Warning message in predict.lm(modelFit, newdata):\n",
      "\"prediction from a rank-deficient fit may be misleading\"Warning message in predict.lm(modelFit, newdata):\n",
      "\"prediction from a rank-deficient fit may be misleading\"Warning message in predict.lm(modelFit, newdata):\n",
      "\"prediction from a rank-deficient fit may be misleading\"Warning message in predict.lm(modelFit, newdata):\n",
      "\"prediction from a rank-deficient fit may be misleading\"Warning message in predict.lm(modelFit, newdata):\n",
      "\"prediction from a rank-deficient fit may be misleading\"Warning message in predict.lm(modelFit, newdata):\n",
      "\"prediction from a rank-deficient fit may be misleading\"Warning message in predict.lm(modelFit, newdata):\n",
      "\"prediction from a rank-deficient fit may be misleading\"Warning message in predict.lm(modelFit, newdata):\n",
      "\"prediction from a rank-deficient fit may be misleading\"Warning message in predict.lm(modelFit, newdata):\n",
      "\"prediction from a rank-deficient fit may be misleading\"Warning message in predict.lm(modelFit, newdata):\n",
      "\"prediction from a rank-deficient fit may be misleading\"Warning message in predict.lm(modelFit, newdata):\n",
      "\"prediction from a rank-deficient fit may be misleading\"Warning message in predict.lm(modelFit, newdata):\n",
      "\"prediction from a rank-deficient fit may be misleading\"Warning message in predict.lm(modelFit, newdata):\n",
      "\"prediction from a rank-deficient fit may be misleading\"Warning message in predict.lm(modelFit, newdata):\n",
      "\"prediction from a rank-deficient fit may be misleading\"Warning message in predict.lm(modelFit, newdata):\n",
      "\"prediction from a rank-deficient fit may be misleading\"Warning message in predict.lm(modelFit, newdata):\n",
      "\"prediction from a rank-deficient fit may be misleading\"Warning message in predict.lm(modelFit, newdata):\n",
      "\"prediction from a rank-deficient fit may be misleading\"Warning message in predict.lm(modelFit, newdata):\n",
      "\"prediction from a rank-deficient fit may be misleading\"Warning message in predict.lm(modelFit, newdata):\n",
      "\"prediction from a rank-deficient fit may be misleading\"Warning message in predict.lm(modelFit, newdata):\n",
      "\"prediction from a rank-deficient fit may be misleading\"Warning message in predict.lm(modelFit, newdata):\n",
      "\"prediction from a rank-deficient fit may be misleading\"Warning message in predict.lm(modelFit, newdata):\n",
      "\"prediction from a rank-deficient fit may be misleading\"Warning message in predict.lm(modelFit, newdata):\n",
      "\"prediction from a rank-deficient fit may be misleading\"Warning message in predict.lm(modelFit, newdata):\n",
      "\"prediction from a rank-deficient fit may be misleading\"Warning message in predict.lm(modelFit, newdata):\n",
      "\"prediction from a rank-deficient fit may be misleading\"Warning message in predict.lm(modelFit, newdata):\n",
      "\"prediction from a rank-deficient fit may be misleading\"Warning message in predict.lm(modelFit, newdata):\n",
      "\"prediction from a rank-deficient fit may be misleading\"Warning message in nominalTrainWorkflow(x = x, y = y, wts = weights, info = trainInfo, :\n",
      "\"There were missing values in resampled performance measures.\""
     ]
    }
   ],
   "source": [
    "lm_fit <- train(Target24HourPercChange ~ . ,\n",
    "                    data = cryptodata_train,\n",
    "                    method = \"lm\",\n",
    "                    trControl = train_control)"
   ]
  },
  {
   "cell_type": "code",
   "execution_count": 23,
   "metadata": {},
   "outputs": [
    {
     "data": {
      "text/plain": [
       "Linear Regression \n",
       "\n",
       "18277 samples\n",
       "   17 predictor\n",
       "\n",
       "No pre-processing\n",
       "Resampling: Rolling Forecasting Origin Resampling (1 held-out with a fixed window) \n",
       "Summary of sample sizes: 31, 31, 31, 31, 31, 31, ... \n",
       "Resampling results:\n",
       "\n",
       "  RMSE      Rsquared  MAE     \n",
       "  1.839481  NaN       1.839481\n",
       "\n",
       "Tuning parameter 'intercept' was held constant at a value of TRUE"
      ]
     },
     "metadata": {},
     "output_type": "display_data"
    }
   ],
   "source": [
    "lm_fit"
   ]
  },
  {
   "cell_type": "markdown",
   "metadata": {},
   "source": [
    "##### Using XGBoost with cross validation: (Commented out because takes a long time)"
   ]
  },
  {
   "cell_type": "code",
   "execution_count": 24,
   "metadata": {},
   "outputs": [],
   "source": [
    "#xgb_fit <- train(Target24HourPercChange ~ . ,\n",
    "#                    data = cryptodata_train,\n",
    "#                    method = \"xgbLinear\",\n",
    "#                    trControl = train_control)"
   ]
  },
  {
   "cell_type": "code",
   "execution_count": 25,
   "metadata": {},
   "outputs": [],
   "source": [
    "#xgb_fit"
   ]
  },
  {
   "cell_type": "markdown",
   "metadata": {},
   "source": [
    "### Make Predictions"
   ]
  },
  {
   "cell_type": "code",
   "execution_count": 26,
   "metadata": {},
   "outputs": [],
   "source": [
    "xgb_pred <- predict(xgb_fit, newdata = cryptodata_test)"
   ]
  },
  {
   "cell_type": "code",
   "execution_count": 27,
   "metadata": {},
   "outputs": [
    {
     "data": {
      "text/html": [
       "<style>\n",
       ".list-inline {list-style: none; margin:0; padding: 0}\n",
       ".list-inline>li {display: inline-block}\n",
       ".list-inline>li:not(:last-child)::after {content: \"\\00b7\"; padding: 0 .5ex}\n",
       "</style>\n",
       "<ol class=list-inline><li>1.55094218254089</li><li>2.39312219619751</li><li>3.18584561347961</li><li>3.45975112915039</li><li>3.47279381752014</li><li>3.75292778015137</li></ol>\n"
      ],
      "text/latex": [
       "\\begin{enumerate*}\n",
       "\\item 1.55094218254089\n",
       "\\item 2.39312219619751\n",
       "\\item 3.18584561347961\n",
       "\\item 3.45975112915039\n",
       "\\item 3.47279381752014\n",
       "\\item 3.75292778015137\n",
       "\\end{enumerate*}\n"
      ],
      "text/markdown": [
       "1. 1.55094218254089\n",
       "2. 2.39312219619751\n",
       "3. 3.18584561347961\n",
       "4. 3.45975112915039\n",
       "5. 3.47279381752014\n",
       "6. 3.75292778015137\n",
       "\n",
       "\n"
      ],
      "text/plain": [
       "[1] 1.550942 2.393122 3.185846 3.459751 3.472794 3.752928"
      ]
     },
     "metadata": {},
     "output_type": "display_data"
    }
   ],
   "source": [
    "head(xgb_pred)"
   ]
  },
  {
   "cell_type": "markdown",
   "metadata": {},
   "source": [
    "### Evaluate Performance (did not convert this to a % so wouldn't work"
   ]
  },
  {
   "cell_type": "code",
   "execution_count": 28,
   "metadata": {},
   "outputs": [],
   "source": [
    "#postResample(pred = xgb_pred, obs = cryptodata_test$Close)"
   ]
  },
  {
   "cell_type": "markdown",
   "metadata": {},
   "source": [
    "## Timeseries Data Prep"
   ]
  },
  {
   "cell_type": "markdown",
   "metadata": {},
   "source": [
    "#### Make a tsibble"
   ]
  },
  {
   "cell_type": "code",
   "execution_count": 29,
   "metadata": {},
   "outputs": [
    {
     "ename": "ERROR",
     "evalue": "Error in as_tsibble(cryptodata, index = DateTime): could not find function \"as_tsibble\"\n",
     "output_type": "error",
     "traceback": [
      "Error in as_tsibble(cryptodata, index = DateTime): could not find function \"as_tsibble\"\nTraceback:\n"
     ]
    }
   ],
   "source": [
    "cryptodata_ts <- as_tsibble(cryptodata, index = DateTime)"
   ]
  },
  {
   "cell_type": "code",
   "execution_count": null,
   "metadata": {},
   "outputs": [],
   "source": [
    "cryptodata_ts"
   ]
  },
  {
   "cell_type": "markdown",
   "metadata": {},
   "source": [
    "##### Are there any gaps?"
   ]
  },
  {
   "cell_type": "code",
   "execution_count": null,
   "metadata": {},
   "outputs": [],
   "source": [
    "has_gaps(cryptodata_ts)"
   ]
  },
  {
   "cell_type": "markdown",
   "metadata": {},
   "source": [
    "##### Find gaps"
   ]
  },
  {
   "cell_type": "code",
   "execution_count": null,
   "metadata": {},
   "outputs": [],
   "source": [
    "scan_gaps(cryptodata_ts)"
   ]
  },
  {
   "cell_type": "markdown",
   "metadata": {},
   "source": [
    "#### Fill data gaps"
   ]
  },
  {
   "cell_type": "code",
   "execution_count": null,
   "metadata": {},
   "outputs": [],
   "source": [
    "cryptodata_ts <- fill_gaps(cryptodata_ts)"
   ]
  },
  {
   "cell_type": "markdown",
   "metadata": {},
   "source": [
    "### Train/Test Split"
   ]
  },
  {
   "cell_type": "code",
   "execution_count": null,
   "metadata": {},
   "outputs": [],
   "source": [
    "ts_train <- head(cryptodata_ts, as.integer(nrow(cryptodata)*.8))"
   ]
  },
  {
   "cell_type": "code",
   "execution_count": null,
   "metadata": {},
   "outputs": [],
   "source": [
    "ts_test <- tail(cryptodata_ts, as.integer(nrow(cryptodata)*.2))"
   ]
  },
  {
   "cell_type": "markdown",
   "metadata": {},
   "source": [
    "## Timeseries Predictive Modeling"
   ]
  },
  {
   "cell_type": "markdown",
   "metadata": {},
   "source": [
    "#### Simple naive model"
   ]
  },
  {
   "cell_type": "code",
   "execution_count": null,
   "metadata": {},
   "outputs": [],
   "source": [
    "naive_model <- model(ts_train, naive = NAIVE(Close))"
   ]
  },
  {
   "cell_type": "code",
   "execution_count": null,
   "metadata": {},
   "outputs": [],
   "source": [
    "naive_model"
   ]
  },
  {
   "cell_type": "markdown",
   "metadata": {},
   "source": [
    "#### Compare predictions to what actually happens with this approach:"
   ]
  },
  {
   "cell_type": "code",
   "execution_count": null,
   "metadata": {},
   "outputs": [],
   "source": [
    "augment(naive_model)"
   ]
  },
  {
   "cell_type": "markdown",
   "metadata": {},
   "source": [
    "### Make multiple models at the same time"
   ]
  },
  {
   "cell_type": "code",
   "execution_count": null,
   "metadata": {},
   "outputs": [],
   "source": [
    "ts_models <- model(ts_train, snaive = SNAIVE(Close ~ lag(\"week\")),\n",
    "                             arima = ARIMA(Close))"
   ]
  },
  {
   "cell_type": "code",
   "execution_count": null,
   "metadata": {},
   "outputs": [],
   "source": [
    "ts_models"
   ]
  },
  {
   "cell_type": "markdown",
   "metadata": {},
   "source": [
    "##### We can look at the terms chosen for the ARIMA model:"
   ]
  },
  {
   "cell_type": "code",
   "execution_count": null,
   "metadata": {},
   "outputs": [],
   "source": [
    "tidy(ts_models)"
   ]
  },
  {
   "cell_type": "markdown",
   "metadata": {},
   "source": [
    "### Forecast"
   ]
  },
  {
   "cell_type": "code",
   "execution_count": null,
   "metadata": {},
   "outputs": [],
   "source": [
    "ts_forecasts <- forecast(ts_models, h = '1 day')"
   ]
  },
  {
   "cell_type": "code",
   "execution_count": null,
   "metadata": {},
   "outputs": [],
   "source": [
    "ts_forecasts"
   ]
  },
  {
   "cell_type": "markdown",
   "metadata": {},
   "source": [
    "### Accuracy on test set (all timeseries models)"
   ]
  },
  {
   "cell_type": "code",
   "execution_count": null,
   "metadata": {},
   "outputs": [],
   "source": [
    "accuracy(ts_forecasts, ts_test)"
   ]
  },
  {
   "cell_type": "code",
   "execution_count": null,
   "metadata": {},
   "outputs": [],
   "source": [
    "install.packages('devtools')"
   ]
  },
  {
   "cell_type": "code",
   "execution_count": null,
   "metadata": {},
   "outputs": [],
   "source": [
    "library('tsibble')"
   ]
  }
 ],
 "metadata": {
  "kernelspec": {
   "display_name": "R",
   "language": "R",
   "name": "ir"
  },
  "language_info": {
   "codemirror_mode": "r",
   "file_extension": ".r",
   "mimetype": "text/x-r-source",
   "name": "R",
   "pygments_lexer": "r",
   "version": "3.6.1"
  }
 },
 "nbformat": 4,
 "nbformat_minor": 4
}
